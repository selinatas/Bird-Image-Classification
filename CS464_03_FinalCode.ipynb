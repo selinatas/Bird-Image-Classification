{
  "cells": [
    {
      "cell_type": "markdown",
      "metadata": {
        "id": "ODjD_iBCC3ZG"
      },
      "source": [
        "# Connecting Kaggle and Google Drive"
      ]
    },
    {
      "cell_type": "code",
      "execution_count": 71,
      "metadata": {
        "id": "a_bs24ciKsdk"
      },
      "outputs": [],
      "source": [
        "!pip install -q kaggle"
      ]
    },
    {
      "cell_type": "code",
      "execution_count": 72,
      "metadata": {
        "id": "j65OMHANK3i2"
      },
      "outputs": [],
      "source": [
        "from google.colab import files\n",
        "from google.colab import drive\n",
        "#drive.mount(\"/content/gdrive\")"
      ]
    },
    {
      "cell_type": "code",
      "execution_count": 73,
      "metadata": {
        "colab": {
          "base_uri": "https://localhost:8080/",
          "height": 56
        },
        "id": "j28PCLDmK9PA",
        "outputId": "665f525f-4a31-46f0-cba4-39ef68d324bc"
      },
      "outputs": [
        {
          "output_type": "display_data",
          "data": {
            "text/plain": [
              "<IPython.core.display.HTML object>"
            ],
            "text/html": [
              "\n",
              "     <input type=\"file\" id=\"files-bab0b99a-7de9-4dd2-a68a-85c7a414e4c5\" name=\"files[]\" multiple disabled\n",
              "        style=\"border:none\" />\n",
              "     <output id=\"result-bab0b99a-7de9-4dd2-a68a-85c7a414e4c5\">\n",
              "      Upload widget is only available when the cell has been executed in the\n",
              "      current browser session. Please rerun this cell to enable.\n",
              "      </output>\n",
              "      <script>// Copyright 2017 Google LLC\n",
              "//\n",
              "// Licensed under the Apache License, Version 2.0 (the \"License\");\n",
              "// you may not use this file except in compliance with the License.\n",
              "// You may obtain a copy of the License at\n",
              "//\n",
              "//      http://www.apache.org/licenses/LICENSE-2.0\n",
              "//\n",
              "// Unless required by applicable law or agreed to in writing, software\n",
              "// distributed under the License is distributed on an \"AS IS\" BASIS,\n",
              "// WITHOUT WARRANTIES OR CONDITIONS OF ANY KIND, either express or implied.\n",
              "// See the License for the specific language governing permissions and\n",
              "// limitations under the License.\n",
              "\n",
              "/**\n",
              " * @fileoverview Helpers for google.colab Python module.\n",
              " */\n",
              "(function(scope) {\n",
              "function span(text, styleAttributes = {}) {\n",
              "  const element = document.createElement('span');\n",
              "  element.textContent = text;\n",
              "  for (const key of Object.keys(styleAttributes)) {\n",
              "    element.style[key] = styleAttributes[key];\n",
              "  }\n",
              "  return element;\n",
              "}\n",
              "\n",
              "// Max number of bytes which will be uploaded at a time.\n",
              "const MAX_PAYLOAD_SIZE = 100 * 1024;\n",
              "\n",
              "function _uploadFiles(inputId, outputId) {\n",
              "  const steps = uploadFilesStep(inputId, outputId);\n",
              "  const outputElement = document.getElementById(outputId);\n",
              "  // Cache steps on the outputElement to make it available for the next call\n",
              "  // to uploadFilesContinue from Python.\n",
              "  outputElement.steps = steps;\n",
              "\n",
              "  return _uploadFilesContinue(outputId);\n",
              "}\n",
              "\n",
              "// This is roughly an async generator (not supported in the browser yet),\n",
              "// where there are multiple asynchronous steps and the Python side is going\n",
              "// to poll for completion of each step.\n",
              "// This uses a Promise to block the python side on completion of each step,\n",
              "// then passes the result of the previous step as the input to the next step.\n",
              "function _uploadFilesContinue(outputId) {\n",
              "  const outputElement = document.getElementById(outputId);\n",
              "  const steps = outputElement.steps;\n",
              "\n",
              "  const next = steps.next(outputElement.lastPromiseValue);\n",
              "  return Promise.resolve(next.value.promise).then((value) => {\n",
              "    // Cache the last promise value to make it available to the next\n",
              "    // step of the generator.\n",
              "    outputElement.lastPromiseValue = value;\n",
              "    return next.value.response;\n",
              "  });\n",
              "}\n",
              "\n",
              "/**\n",
              " * Generator function which is called between each async step of the upload\n",
              " * process.\n",
              " * @param {string} inputId Element ID of the input file picker element.\n",
              " * @param {string} outputId Element ID of the output display.\n",
              " * @return {!Iterable<!Object>} Iterable of next steps.\n",
              " */\n",
              "function* uploadFilesStep(inputId, outputId) {\n",
              "  const inputElement = document.getElementById(inputId);\n",
              "  inputElement.disabled = false;\n",
              "\n",
              "  const outputElement = document.getElementById(outputId);\n",
              "  outputElement.innerHTML = '';\n",
              "\n",
              "  const pickedPromise = new Promise((resolve) => {\n",
              "    inputElement.addEventListener('change', (e) => {\n",
              "      resolve(e.target.files);\n",
              "    });\n",
              "  });\n",
              "\n",
              "  const cancel = document.createElement('button');\n",
              "  inputElement.parentElement.appendChild(cancel);\n",
              "  cancel.textContent = 'Cancel upload';\n",
              "  const cancelPromise = new Promise((resolve) => {\n",
              "    cancel.onclick = () => {\n",
              "      resolve(null);\n",
              "    };\n",
              "  });\n",
              "\n",
              "  // Wait for the user to pick the files.\n",
              "  const files = yield {\n",
              "    promise: Promise.race([pickedPromise, cancelPromise]),\n",
              "    response: {\n",
              "      action: 'starting',\n",
              "    }\n",
              "  };\n",
              "\n",
              "  cancel.remove();\n",
              "\n",
              "  // Disable the input element since further picks are not allowed.\n",
              "  inputElement.disabled = true;\n",
              "\n",
              "  if (!files) {\n",
              "    return {\n",
              "      response: {\n",
              "        action: 'complete',\n",
              "      }\n",
              "    };\n",
              "  }\n",
              "\n",
              "  for (const file of files) {\n",
              "    const li = document.createElement('li');\n",
              "    li.append(span(file.name, {fontWeight: 'bold'}));\n",
              "    li.append(span(\n",
              "        `(${file.type || 'n/a'}) - ${file.size} bytes, ` +\n",
              "        `last modified: ${\n",
              "            file.lastModifiedDate ? file.lastModifiedDate.toLocaleDateString() :\n",
              "                                    'n/a'} - `));\n",
              "    const percent = span('0% done');\n",
              "    li.appendChild(percent);\n",
              "\n",
              "    outputElement.appendChild(li);\n",
              "\n",
              "    const fileDataPromise = new Promise((resolve) => {\n",
              "      const reader = new FileReader();\n",
              "      reader.onload = (e) => {\n",
              "        resolve(e.target.result);\n",
              "      };\n",
              "      reader.readAsArrayBuffer(file);\n",
              "    });\n",
              "    // Wait for the data to be ready.\n",
              "    let fileData = yield {\n",
              "      promise: fileDataPromise,\n",
              "      response: {\n",
              "        action: 'continue',\n",
              "      }\n",
              "    };\n",
              "\n",
              "    // Use a chunked sending to avoid message size limits. See b/62115660.\n",
              "    let position = 0;\n",
              "    do {\n",
              "      const length = Math.min(fileData.byteLength - position, MAX_PAYLOAD_SIZE);\n",
              "      const chunk = new Uint8Array(fileData, position, length);\n",
              "      position += length;\n",
              "\n",
              "      const base64 = btoa(String.fromCharCode.apply(null, chunk));\n",
              "      yield {\n",
              "        response: {\n",
              "          action: 'append',\n",
              "          file: file.name,\n",
              "          data: base64,\n",
              "        },\n",
              "      };\n",
              "\n",
              "      let percentDone = fileData.byteLength === 0 ?\n",
              "          100 :\n",
              "          Math.round((position / fileData.byteLength) * 100);\n",
              "      percent.textContent = `${percentDone}% done`;\n",
              "\n",
              "    } while (position < fileData.byteLength);\n",
              "  }\n",
              "\n",
              "  // All done.\n",
              "  yield {\n",
              "    response: {\n",
              "      action: 'complete',\n",
              "    }\n",
              "  };\n",
              "}\n",
              "\n",
              "scope.google = scope.google || {};\n",
              "scope.google.colab = scope.google.colab || {};\n",
              "scope.google.colab._files = {\n",
              "  _uploadFiles,\n",
              "  _uploadFilesContinue,\n",
              "};\n",
              "})(self);\n",
              "</script> "
            ]
          },
          "metadata": {}
        },
        {
          "output_type": "execute_result",
          "data": {
            "text/plain": [
              "{}"
            ]
          },
          "metadata": {},
          "execution_count": 73
        }
      ],
      "source": [
        "files.upload()"
      ]
    },
    {
      "cell_type": "code",
      "execution_count": 74,
      "metadata": {
        "id": "IO_71ZGZK-uh",
        "colab": {
          "base_uri": "https://localhost:8080/"
        },
        "outputId": "3ad80da9-c120-45dc-c3dd-9d1e31b85694"
      },
      "outputs": [
        {
          "output_type": "stream",
          "name": "stdout",
          "text": [
            "mkdir: cannot create directory ‘/root/.kaggle’: File exists\n"
          ]
        }
      ],
      "source": [
        "! mkdir ~/.kaggle"
      ]
    },
    {
      "cell_type": "code",
      "execution_count": 75,
      "metadata": {
        "id": "3-oxDLsRL64E"
      },
      "outputs": [],
      "source": [
        "! cp kaggle.json ~/.kaggle/"
      ]
    },
    {
      "cell_type": "code",
      "execution_count": 76,
      "metadata": {
        "id": "XjsvyMnuL9l3"
      },
      "outputs": [],
      "source": [
        "! chmod 600 ~/.kaggle/kaggle.json"
      ]
    },
    {
      "cell_type": "code",
      "execution_count": 77,
      "metadata": {
        "colab": {
          "base_uri": "https://localhost:8080/"
        },
        "id": "tV4AJgJLMEnZ",
        "outputId": "e5d5141a-5935-4ed3-8c9b-8c86ba1b37c8"
      },
      "outputs": [
        {
          "output_type": "stream",
          "name": "stdout",
          "text": [
            "100-bird-species.zip: Skipping, found more recently modified local copy (use --force to force download)\n"
          ]
        }
      ],
      "source": [
        "!kaggle datasets download -d gpiosenka/100-bird-species/"
      ]
    },
    {
      "cell_type": "code",
      "execution_count": 78,
      "metadata": {
        "id": "P656AXEqMk9d",
        "colab": {
          "base_uri": "https://localhost:8080/"
        },
        "outputId": "caf1c828-457d-4fc8-a3e2-ba16306c55cc"
      },
      "outputs": [
        {
          "output_type": "stream",
          "name": "stdout",
          "text": [
            "Archive:  100-bird-species.zip\n",
            "replace EfficientNetB0-525-(224 X 224)- 98.97.h5? [y]es, [n]o, [A]ll, [N]one, [r]ename: "
          ]
        }
      ],
      "source": [
        "!unzip 100-bird-species.zip;"
      ]
    },
    {
      "cell_type": "markdown",
      "metadata": {
        "id": "To6o_YiECt3x"
      },
      "source": [
        "# Importing Libraries"
      ]
    },
    {
      "cell_type": "code",
      "execution_count": 79,
      "metadata": {
        "id": "7YRwzzV6nEwM"
      },
      "outputs": [],
      "source": [
        "import os\n",
        "import cv2\n",
        "import time\n",
        "import numpy as np\n",
        "import random\n",
        "import matplotlib.pyplot as plt\n",
        "import matplotlib.image as mpimg\n",
        "import pandas as pd\n",
        "from PIL import Image\n",
        "from pathlib import Path\n",
        "import seaborn as sns\n",
        "#PYTORCH IMPORTS\n",
        "import torch\n",
        "from torch.utils.data import DataLoader, Dataset\n",
        "from torch.utils.data import RandomSampler\n",
        "import torchvision.models as models\n",
        "from torchvision.utils import make_grid\n",
        "from torchvision.datasets import ImageFolder\n",
        "from torchvision import datasets, transforms\n",
        "import torch.nn as nn\n",
        "import torch.optim as optim\n",
        "#SCI-KIT LEARN IMPORTS\n",
        "from sklearn.preprocessing import OneHotEncoder\n",
        "from sklearn.model_selection import train_test_split\n",
        "from sklearn.ensemble import RandomForestClassifier\n",
        "from sklearn.metrics import classification_report, accuracy_score,confusion_matrix\n",
        "from sklearn.svm import SVC\n",
        "from sklearn.linear_model import LogisticRegression\n",
        "from sklearn.decomposition import PCA\n",
        "from sklearn.preprocessing import StandardScaler\n",
        "from sklearn.pipeline import make_pipeline\n",
        "import tensorflow as tf\n",
        "from tensorflow.keras.applications import EfficientNetB0\n",
        "from tensorflow.keras.layers import GlobalAveragePooling2D, Dense\n",
        "from tensorflow.keras.models import Model\n",
        "from tensorflow.keras.preprocessing.image import ImageDataGenerator\n",
        "from tensorflow.keras.applications.efficientnet import preprocess_input\n",
        "from tensorflow.keras.applications import ResNet50\n",
        "from tensorflow.keras.layers import GlobalAveragePooling2D, Dense\n",
        "from tensorflow.keras.models import Model\n",
        "from tensorflow.keras.callbacks import ModelCheckpoint, EarlyStopping\n",
        "\n",
        "DIR_TRAIN = \"/content/train/\"\n",
        "DIR_VALID = \"/content/valid/\"\n",
        "DIR_TEST = \"/content/test/\""
      ]
    },
    {
      "cell_type": "markdown",
      "metadata": {
        "id": "v_uw2-0BCoh1"
      },
      "source": [
        "# Understanding Data and Data Preprocessing"
      ]
    },
    {
      "cell_type": "code",
      "execution_count": 80,
      "metadata": {
        "colab": {
          "base_uri": "https://localhost:8080/"
        },
        "id": "sMbBxc2wpwmi",
        "outputId": "14194048-353f-4083-fc19-7705dace22f8"
      },
      "outputs": [
        {
          "output_type": "stream",
          "name": "stdout",
          "text": [
            "Total Classes: 525\n",
            "Total train images: 84635\n",
            "Total valid images: 2620\n",
            "Total test images: 2625\n"
          ]
        }
      ],
      "source": [
        "train_imgs = []\n",
        "valid_imgs = []\n",
        "test_imgs = []\n",
        "classes = os.listdir(DIR_TRAIN)\n",
        "print(\"Total Classes:\", len(classes))\n",
        "for _class in classes:\n",
        "    train_dir = os.path.join(DIR_TRAIN, _class)\n",
        "    valid_dir = os.path.join(DIR_VALID, _class)\n",
        "    test_dir = os.path.join(DIR_TEST, _class)\n",
        "\n",
        "    if os.path.isdir(train_dir):\n",
        "        for img in os.listdir(train_dir):\n",
        "            train_imgs.append(os.path.join(train_dir, img))\n",
        "    else:\n",
        "        None\n",
        "\n",
        "    if os.path.isdir(valid_dir):\n",
        "        for img in os.listdir(valid_dir):\n",
        "            valid_imgs.append(os.path.join(valid_dir, img))\n",
        "    else:\n",
        "        None\n",
        "\n",
        "    if os.path.isdir(test_dir):\n",
        "        for img in os.listdir(test_dir):\n",
        "            test_imgs.append(os.path.join(test_dir, img))\n",
        "    else:\n",
        "        None\n",
        "\n",
        "class_to_int = {classes[i] : i for i in range(len(classes))}\n",
        "\n",
        "print(f\"Total train images: {len(train_imgs)}\")\n",
        "print(f\"Total valid images: {len(valid_imgs)}\")\n",
        "print(f\"Total test images: {len(test_imgs)}\")"
      ]
    },
    {
      "cell_type": "code",
      "execution_count": 81,
      "metadata": {
        "id": "ogF4KIVit2Fi",
        "colab": {
          "base_uri": "https://localhost:8080/",
          "height": 378
        },
        "outputId": "407c8f84-c764-4140-ebb0-c2011d6eff21"
      },
      "outputs": [
        {
          "output_type": "error",
          "ename": "KeyboardInterrupt",
          "evalue": "ignored",
          "traceback": [
            "\u001b[0;31m---------------------------------------------------------------------------\u001b[0m",
            "\u001b[0;31mKeyboardInterrupt\u001b[0m                         Traceback (most recent call last)",
            "\u001b[0;32m<ipython-input-81-99916397234e>\u001b[0m in \u001b[0;36m<cell line: 45>\u001b[0;34m()\u001b[0m\n\u001b[1;32m     43\u001b[0m \u001b[0;34m\u001b[0m\u001b[0m\n\u001b[1;32m     44\u001b[0m \u001b[0mprocess_and_save_images\u001b[0m\u001b[0;34m(\u001b[0m\u001b[0;34m'/content/train'\u001b[0m\u001b[0;34m,\u001b[0m \u001b[0;34m'/content/gray_train'\u001b[0m\u001b[0;34m,\u001b[0m\u001b[0;34m'/content/gray_valid'\u001b[0m\u001b[0;34m,\u001b[0m\u001b[0;34m'/content/gray_test'\u001b[0m\u001b[0;34m,\u001b[0m \u001b[0mtop_species\u001b[0m\u001b[0;34m,\u001b[0m \u001b[0mnum_images_per_species\u001b[0m\u001b[0;34m,\u001b[0m \u001b[0mis_grayscale\u001b[0m\u001b[0;34m=\u001b[0m\u001b[0;32mTrue\u001b[0m\u001b[0;34m)\u001b[0m\u001b[0;34m\u001b[0m\u001b[0;34m\u001b[0m\u001b[0m\n\u001b[0;32m---> 45\u001b[0;31m \u001b[0mprocess_and_save_images\u001b[0m\u001b[0;34m(\u001b[0m\u001b[0;34m'/content/train'\u001b[0m\u001b[0;34m,\u001b[0m \u001b[0;34m'/content/RGB_train'\u001b[0m\u001b[0;34m,\u001b[0m \u001b[0;34m'/content/RGB_valid'\u001b[0m\u001b[0;34m,\u001b[0m\u001b[0;34m'/content/RGB_test'\u001b[0m\u001b[0;34m,\u001b[0m\u001b[0mtop_species\u001b[0m\u001b[0;34m,\u001b[0m \u001b[0mnum_images_per_species\u001b[0m\u001b[0;34m,\u001b[0m \u001b[0mis_grayscale\u001b[0m\u001b[0;34m=\u001b[0m\u001b[0;32mFalse\u001b[0m\u001b[0;34m)\u001b[0m\u001b[0;34m\u001b[0m\u001b[0;34m\u001b[0m\u001b[0m\n\u001b[0m",
            "\u001b[0;32m<ipython-input-81-99916397234e>\u001b[0m in \u001b[0;36mprocess_and_save_images\u001b[0;34m(dataset_dir, train_dir, valid_dir, test_dir, top_species, num_images_per_species, is_grayscale)\u001b[0m\n\u001b[1;32m     36\u001b[0m                 \u001b[0mimg\u001b[0m \u001b[0;34m=\u001b[0m \u001b[0mcv2\u001b[0m\u001b[0;34m.\u001b[0m\u001b[0mimread\u001b[0m\u001b[0;34m(\u001b[0m\u001b[0mimg_path\u001b[0m\u001b[0;34m,\u001b[0m \u001b[0mcv2\u001b[0m\u001b[0;34m.\u001b[0m\u001b[0mIMREAD_GRAYSCALE\u001b[0m \u001b[0;32mif\u001b[0m \u001b[0mis_grayscale\u001b[0m \u001b[0;32melse\u001b[0m \u001b[0mcv2\u001b[0m\u001b[0;34m.\u001b[0m\u001b[0mIMREAD_COLOR\u001b[0m\u001b[0;34m)\u001b[0m\u001b[0;34m\u001b[0m\u001b[0;34m\u001b[0m\u001b[0m\n\u001b[1;32m     37\u001b[0m                 \u001b[0msave_path\u001b[0m \u001b[0;34m=\u001b[0m \u001b[0mos\u001b[0m\u001b[0;34m.\u001b[0m\u001b[0mpath\u001b[0m\u001b[0;34m.\u001b[0m\u001b[0mjoin\u001b[0m\u001b[0;34m(\u001b[0m\u001b[0mspecies_save_dir\u001b[0m\u001b[0;34m,\u001b[0m \u001b[0mimg_name\u001b[0m\u001b[0;34m)\u001b[0m\u001b[0;34m\u001b[0m\u001b[0;34m\u001b[0m\u001b[0m\n\u001b[0;32m---> 38\u001b[0;31m                 \u001b[0mcv2\u001b[0m\u001b[0;34m.\u001b[0m\u001b[0mimwrite\u001b[0m\u001b[0;34m(\u001b[0m\u001b[0msave_path\u001b[0m\u001b[0;34m,\u001b[0m \u001b[0mimg\u001b[0m\u001b[0;34m)\u001b[0m\u001b[0;34m\u001b[0m\u001b[0;34m\u001b[0m\u001b[0m\n\u001b[0m\u001b[1;32m     39\u001b[0m \u001b[0;34m\u001b[0m\u001b[0m\n\u001b[1;32m     40\u001b[0m \u001b[0mnum_species\u001b[0m \u001b[0;34m=\u001b[0m \u001b[0;36m10\u001b[0m\u001b[0;34m\u001b[0m\u001b[0;34m\u001b[0m\u001b[0m\n",
            "\u001b[0;31mKeyboardInterrupt\u001b[0m: "
          ]
        }
      ],
      "source": [
        "import os\n",
        "import cv2\n",
        "import random\n",
        "def get_top_species(dataset_dir, num_species):\n",
        "    species_count = {}\n",
        "    for species in os.listdir(dataset_dir):\n",
        "        species_dir = os.path.join(dataset_dir, species)\n",
        "        if os.path.isdir(species_dir):\n",
        "            species_count[species] = len(os.listdir(species_dir))\n",
        "    top_species = sorted(species_count, key=species_count.get, reverse=True)[:num_species]\n",
        "    return top_species\n",
        "\n",
        "def process_and_save_images(dataset_dir, train_dir, valid_dir, test_dir, top_species, num_images_per_species, is_grayscale=True):\n",
        "    for save_dir in [train_dir, valid_dir, test_dir]:\n",
        "        if not os.path.exists(save_dir):\n",
        "            os.makedirs(save_dir)\n",
        "\n",
        "    for species in top_species:\n",
        "        species_dir = os.path.join(dataset_dir, species)\n",
        "        all_images = os.listdir(species_dir)\n",
        "        random.shuffle(all_images)\n",
        "\n",
        "        train_images = all_images[:num_images_per_species]\n",
        "        remaining_images = all_images[num_images_per_species:]\n",
        "        split_point = len(remaining_images) // 2\n",
        "        valid_images = remaining_images[:split_point]\n",
        "        test_images = remaining_images[split_point:]\n",
        "\n",
        "        for img_set, save_dir in zip([train_images, valid_images, test_images], [train_dir, valid_dir, test_dir]):\n",
        "            species_save_dir = os.path.join(save_dir, species)\n",
        "            if not os.path.exists(species_save_dir):\n",
        "                os.makedirs(species_save_dir)\n",
        "\n",
        "            for img_name in img_set:\n",
        "                img_path = os.path.join(species_dir, img_name)\n",
        "                img = cv2.imread(img_path, cv2.IMREAD_GRAYSCALE if is_grayscale else cv2.IMREAD_COLOR)\n",
        "                save_path = os.path.join(species_save_dir, img_name)\n",
        "                cv2.imwrite(save_path, img)\n",
        "\n",
        "num_species = 10\n",
        "num_images_per_species = 100  # Number of images per species for training\n",
        "top_species = get_top_species('/content/train', num_species)\n",
        "\n",
        "process_and_save_images('/content/train', '/content/gray_train','/content/gray_valid','/content/gray_test', top_species, num_images_per_species, is_grayscale=True)\n",
        "process_and_save_images('/content/train', '/content/RGB_train', '/content/RGB_valid','/content/RGB_test',top_species, num_images_per_species, is_grayscale=False)"
      ]
    },
    {
      "cell_type": "code",
      "execution_count": null,
      "metadata": {
        "id": "3kT1ZOidsoGb"
      },
      "outputs": [],
      "source": [
        "num_of_bird_groups = len(os.listdir(\"/content/gray_train\"))\n",
        "num_of_bird_groups"
      ]
    },
    {
      "cell_type": "markdown",
      "metadata": {
        "id": "-rrDTDmZCjPm"
      },
      "source": [
        "# Data Augmentation"
      ]
    },
    {
      "cell_type": "code",
      "execution_count": null,
      "metadata": {
        "id": "FJNH6aLCtBsa"
      },
      "outputs": [],
      "source": [
        "#DATA AUGMENTATION\n",
        "# Augment images and save them to the disk\n",
        "# Define the augmentation pipelines\n",
        "\n",
        "train_transforms = transforms.Compose([\n",
        "    transforms.RandomHorizontalFlip(),\n",
        "    transforms.RandomRotation(10),\n",
        "    transforms.RandomResizedCrop(224, scale=(0.9, 1.1)),\n",
        "    transforms.ToTensor()\n",
        "])\n",
        "\n",
        "valid_test_transforms = transforms.Compose([\n",
        "    transforms.RandomHorizontalFlip(),\n",
        "    transforms.RandomRotation(15),\n",
        "    transforms.ColorJitter(brightness=0.2, contrast=0.2),\n",
        "    transforms.RandomResizedCrop(224, scale=(0.9, 1.1)),\n",
        "    transforms.ToTensor()\n",
        "])\n",
        "\n",
        "def augment_and_save_images(dataset_dir, save_dir, transform, multiply_factor):\n",
        "    if not os.path.exists(save_dir):\n",
        "        os.makedirs(save_dir)\n",
        "\n",
        "    for species in os.listdir(dataset_dir):\n",
        "        species_dir = os.path.join(dataset_dir, species)\n",
        "        species_save_dir = os.path.join(save_dir, species)\n",
        "        if not os.path.exists(species_save_dir):\n",
        "            os.makedirs(species_save_dir)\n",
        "\n",
        "        for img_name in os.listdir(species_dir):\n",
        "            img_path = os.path.join(species_dir, img_name)\n",
        "            image = Image.open(img_path)\n",
        "\n",
        "            for i in range(multiply_factor):\n",
        "                img_tensor = transform(image)\n",
        "                augmented_img = transforms.ToPILImage()(img_tensor)\n",
        "                augmented_img.save(os.path.join(species_save_dir, f\"{i}_{img_name}\"))\n",
        "\n",
        "augment_and_save_images(\"/content/RGB_train\", \"/content/aug_RGB_train\", train_transforms, 5)\n",
        "augment_and_save_images(\"/content/RGB_valid\", \"/content/aug_RGB_valid\", valid_test_transforms, 5)\n",
        "augment_and_save_images(\"/content/RGB_test\", \"/content/aug_RGB_test\", valid_test_transforms, 5)\n",
        "augment_and_save_images(\"/content/gray_train\", \"/content/aug_gray_train\", train_transforms, 5)\n",
        "augment_and_save_images(\"/content/gray_valid\", \"/content/aug_gray_valid\", valid_test_transforms, 5)\n",
        "augment_and_save_images(\"/content/gray_test\", \"/content/aug_gray_test\", valid_test_transforms, 5)"
      ]
    },
    {
      "cell_type": "code",
      "source": [
        "train_imgs = []\n",
        "valid_imgs = []\n",
        "test_imgs = []\n",
        "classes = os.listdir(\"/content/RGB_train\")\n",
        "print(\"Total Classes:\", len(classes))\n",
        "for _class in classes:\n",
        "    train_dir = os.path.join(\"/content/RGB_train\", _class)\n",
        "    valid_dir = os.path.join(\"/content/RGB_valid\", _class)\n",
        "    test_dir = os.path.join(\"/content/RGB_test\", _class)\n",
        "\n",
        "    if os.path.isdir(train_dir):\n",
        "        for img in os.listdir(train_dir):\n",
        "            train_imgs.append(os.path.join(train_dir, img))\n",
        "    else:\n",
        "        print(f\"Warning: Training directory does not exist: {train_dir}\")\n",
        "\n",
        "    if os.path.isdir(valid_dir):\n",
        "        for img in os.listdir(valid_dir):\n",
        "            valid_imgs.append(os.path.join(valid_dir, img))\n",
        "    else:\n",
        "        print(f\"Warning: Validation directory does not exist: {valid_dir}\")\n",
        "\n",
        "    if os.path.isdir(test_dir):\n",
        "        for img in os.listdir(test_dir):\n",
        "            test_imgs.append(os.path.join(test_dir, img))\n",
        "    else:\n",
        "        print(f\"Warning: Test directory does not exist: {test_dir}\")\n",
        "\n",
        "class_to_int = {classes[i] : i for i in range(len(classes))}\n",
        "\n",
        "print(f\"Total train images: {len(train_imgs)}\")\n",
        "print(f\"Total valid images: {len(valid_imgs)}\")\n",
        "print(f\"Total test images: {len(test_imgs)}\")"
      ],
      "metadata": {
        "id": "5pvOJwiGur2A"
      },
      "execution_count": null,
      "outputs": []
    },
    {
      "cell_type": "code",
      "source": [
        "train_imgs = []\n",
        "valid_imgs = []\n",
        "test_imgs = []\n",
        "classes = os.listdir(\"/content/RGB_train\")\n",
        "print(\"Total Classes:\", len(classes))\n",
        "for _class in classes:\n",
        "    train_dir = os.path.join(\"/content/aug_RGB_train\", _class)\n",
        "    valid_dir = os.path.join(\"/content/aug_RGB_valid\", _class)\n",
        "    test_dir = os.path.join(\"/content/aug_RGB_test\", _class)\n",
        "\n",
        "    if os.path.isdir(train_dir):\n",
        "        for img in os.listdir(train_dir):\n",
        "            train_imgs.append(os.path.join(train_dir, img))\n",
        "    else:\n",
        "        print(f\"Warning: Training directory does not exist: {train_dir}\")\n",
        "\n",
        "    if os.path.isdir(valid_dir):\n",
        "        for img in os.listdir(valid_dir):\n",
        "            valid_imgs.append(os.path.join(valid_dir, img))\n",
        "    else:\n",
        "        print(f\"Warning: Validation directory does not exist: {valid_dir}\")\n",
        "\n",
        "    if os.path.isdir(test_dir):\n",
        "        for img in os.listdir(test_dir):\n",
        "            test_imgs.append(os.path.join(test_dir, img))\n",
        "    else:\n",
        "        print(f\"Warning: Test directory does not exist: {test_dir}\")\n",
        "\n",
        "class_to_int = {classes[i] : i for i in range(len(classes))}\n",
        "\n",
        "print(f\"Total train images: {len(train_imgs)}\")\n",
        "print(f\"Total valid images: {len(valid_imgs)}\")\n",
        "print(f\"Total test images: {len(test_imgs)}\")"
      ],
      "metadata": {
        "id": "NCrUkhlZt7nf"
      },
      "execution_count": null,
      "outputs": []
    },
    {
      "cell_type": "markdown",
      "metadata": {
        "id": "BNJ_zqqeCbpT"
      },
      "source": [
        "# Machine Learning Methods"
      ]
    },
    {
      "cell_type": "code",
      "execution_count": null,
      "metadata": {
        "id": "g5uKyVAHyXbv"
      },
      "outputs": [],
      "source": [
        "def prepare_data_and_labels(directory, species_list,img_size=(64,64)):\n",
        "    data = []\n",
        "    labels = []\n",
        "    for label, bird in enumerate(species_list):\n",
        "        bird_dir = os.path.join(directory, bird)\n",
        "        for image in os.listdir(bird_dir):\n",
        "            img_path = os.path.join(bird_dir, image)\n",
        "            img = Image.open(img_path).resize(img_size)\n",
        "            img_array = np.array(img).flatten()\n",
        "            data.append(img_array)\n",
        "            labels.append(label)\n",
        "    return np.array(data), np.array(labels)\n",
        "\n",
        "# Prepare data and labels\n",
        "X_train, y_train = prepare_data_and_labels(\"/content/RGB_train\", top_species)\n",
        "X_test, y_test = prepare_data_and_labels(\"/content/RGB_test\", top_species)\n",
        "\n",
        "# Train Random Forest Classifier\n",
        "rf_classifier_augrgb = RandomForestClassifier(n_estimators=10, random_state=464)\n",
        "rf_classifier_augrgb.fit(X_train, y_train)\n",
        "\n",
        "# Evaluate the Random Forest classifier\n",
        "y_pred_rf = rf_classifier_augrgb.predict(X_test)\n",
        "print(\"Random Forest Classifier:\")\n",
        "print(\"Accuracy:\", accuracy_score(y_test, y_pred_rf))\n",
        "print(\"Classification Report:\\n\", classification_report(y_test, y_pred_rf))\n",
        "conf_matrix = confusion_matrix(y_test,y_pred_rf)\n",
        "sns.heatmap(conf_matrix,annot=True)"
      ]
    },
    {
      "cell_type": "markdown",
      "metadata": {
        "id": "z41dx33kD4bE"
      },
      "source": [
        "In these models, we have chosen the best parameters based on the validation set, and reported the test accuracy on the test set at the end.\n",
        "\n",
        "\n",
        "\n"
      ]
    },
    {
      "cell_type": "markdown",
      "metadata": {
        "id": "_lrRDh2kLjPD"
      },
      "source": [
        "Training with RGB images"
      ]
    },
    {
      "cell_type": "markdown",
      "metadata": {
        "id": "0PkG_j74Orec"
      },
      "source": [
        "# Random Forest"
      ]
    },
    {
      "cell_type": "code",
      "execution_count": null,
      "metadata": {
        "id": "4yBP4XnyLGuj"
      },
      "outputs": [],
      "source": [
        "X_train, y_train = prepare_data_and_labels(\"/content/aug_RGB_train\", top_species)\n",
        "X_test, y_test = prepare_data_and_labels(\"/content/RGB_test\", top_species)\n",
        "\n",
        "# Train Random Forest Classifier\n",
        "rf_classifier_rgb = RandomForestClassifier(n_estimators=10, random_state=464)\n",
        "rf_classifier_rgb.fit(X_train, y_train)\n",
        "\n",
        "# Evaluate the Random Forest classifier\n",
        "y_pred_rf = rf_classifier_rgb.predict(X_test)\n",
        "print(\"Random Forest Classifier:\")\n",
        "print(\"Accuracy:\", accuracy_score(y_test, y_pred_rf))\n",
        "print(\"Classification Report:\\n\", classification_report(y_test, y_pred_rf))\n",
        "conf_matrix = confusion_matrix(y_test,y_pred_rf)\n",
        "sns.heatmap(conf_matrix,annot=True)"
      ]
    },
    {
      "cell_type": "markdown",
      "metadata": {
        "id": "7an4r-elL2-Y"
      },
      "source": [
        "Training with Gray images"
      ]
    },
    {
      "cell_type": "code",
      "execution_count": null,
      "metadata": {
        "id": "u1gVaz1bL7kw"
      },
      "outputs": [],
      "source": [
        "X_train, y_train = prepare_data_and_labels(\"/content/gray_train\", top_species)\n",
        "X_test, y_test = prepare_data_and_labels(\"/content/gray_test\", top_species)\n",
        "\n",
        "# Train Random Forest Classifier\n",
        "rf_classifier_gray = RandomForestClassifier(n_estimators=10, random_state=464)\n",
        "rf_classifier_gray.fit(X_train, y_train)\n",
        "\n",
        "# Evaluate the Random Forest classifier\n",
        "y_pred_rf = rf_classifier_gray.predict(X_test)\n",
        "print(\"Random Forest Classifier:\")\n",
        "print(\"Accuracy:\", accuracy_score(y_test, y_pred_rf))\n",
        "print(\"Classification Report:\\n\", classification_report(y_test, y_pred_rf))\n",
        "conf_matrix = confusion_matrix(y_test,y_pred_rf)\n",
        "sns.heatmap(conf_matrix,annot=True)"
      ]
    },
    {
      "cell_type": "markdown",
      "metadata": {
        "id": "6KwFRI-9MIPN"
      },
      "source": [
        "Training with Augmented Gray images"
      ]
    },
    {
      "cell_type": "code",
      "execution_count": null,
      "metadata": {
        "id": "cyBeW-nlMLj7"
      },
      "outputs": [],
      "source": [
        "X_train, y_train = prepare_data_and_labels(\"/content/aug_gray_train\", top_species)\n",
        "X_test, y_test = prepare_data_and_labels(\"/content/gray_test\", top_species)\n",
        "\n",
        "# Train Random Forest Classifier\n",
        "rf_classifier_auggray = RandomForestClassifier(n_estimators=10, random_state=464)\n",
        "rf_classifier_auggray.fit(X_train, y_train)\n",
        "\n",
        "# Evaluate the Random Forest classifier\n",
        "y_pred_rf = rf_classifier_auggray.predict(X_test)\n",
        "print(\"Random Forest Classifier:\")\n",
        "print(\"Accuracy:\", accuracy_score(y_test, y_pred_rf))\n",
        "print(\"Classification Report:\\n\", classification_report(y_test, y_pred_rf))\n",
        "conf_matrix = confusion_matrix(y_test,y_pred_rf)\n",
        "sns.heatmap(conf_matrix,annot=True)"
      ]
    },
    {
      "cell_type": "markdown",
      "metadata": {
        "id": "Z1qwVjMLOhVF"
      },
      "source": [
        "# Multinomial Logistic Regression"
      ]
    },
    {
      "cell_type": "code",
      "execution_count": null,
      "metadata": {
        "id": "oyzDbeS8NR1h"
      },
      "outputs": [],
      "source": [
        "# Prepare data and labels\n",
        "X_train, y_train = prepare_data_and_labels(\"/content/RGB_train\", top_species)\n",
        "X_test, y_test = prepare_data_and_labels(\"/content/RGB_test\", top_species)\n",
        "\n",
        "logistic_regression_classifier = LogisticRegression(solver='saga', multi_class='multinomial', random_state=464, max_iter=100)\n",
        "\n",
        "scaler = StandardScaler()\n",
        "X_train = scaler.fit_transform(X_train)\n",
        "X_test = scaler.transform(X_test)\n",
        "\n",
        "logistic_regression_classifier.fit(X_train, y_train)\n",
        "\n",
        "y_pred_lr = logistic_regression_classifier.predict(X_test)\n",
        "print(\"Multinomial Logistic Regression Classifier:\")\n",
        "print(\"Accuracy:\", accuracy_score(y_test, y_pred_lr))\n",
        "print(\"Classification Report:\\n\", classification_report(y_test, y_pred_lr))\n",
        "conf_matrix = confusion_matrix(y_test,y_pred_lr)\n",
        "sns.heatmap(conf_matrix,annot=True)"
      ]
    },
    {
      "cell_type": "code",
      "execution_count": null,
      "metadata": {
        "id": "NM9g7Eb0PAVr"
      },
      "outputs": [],
      "source": [
        "# Prepare data and labels\n",
        "X_train, y_train = prepare_data_and_labels(\"/content/aug_RGB_train\", top_species)\n",
        "X_test, y_test = prepare_data_and_labels(\"/content/RGB_test\", top_species)\n",
        "\n",
        "logistic_regression_classifier = LogisticRegression(solver='saga', multi_class='multinomial', random_state=464, max_iter=100)\n",
        "\n",
        "scaler = StandardScaler()\n",
        "X_train = scaler.fit_transform(X_train)\n",
        "X_test = scaler.transform(X_test)\n",
        "\n",
        "logistic_regression_classifier.fit(X_train, y_train)\n",
        "\n",
        "y_pred_lr = logistic_regression_classifier.predict(X_test)\n",
        "print(\"Multinomial Logistic Regression Classifier:\")\n",
        "print(\"Accuracy:\", accuracy_score(y_test, y_pred_lr))\n",
        "print(\"Classification Report:\\n\", classification_report(y_test, y_pred_lr))\n",
        "conf_matrix = confusion_matrix(y_test,y_pred_lr)\n",
        "sns.heatmap(conf_matrix,annot=True)"
      ]
    },
    {
      "cell_type": "code",
      "execution_count": null,
      "metadata": {
        "id": "86zH2ObpPGyo"
      },
      "outputs": [],
      "source": [
        "# Prepare data and labels\n",
        "X_train, y_train = prepare_data_and_labels(\"/content/gray_train\", top_species)\n",
        "X_test, y_test = prepare_data_and_labels(\"/content/gray_test\", top_species)\n",
        "\n",
        "logistic_regression_classifier = LogisticRegression(solver='saga', multi_class='multinomial', random_state=464, max_iter=100)\n",
        "\n",
        "scaler = StandardScaler()\n",
        "X_train = scaler.fit_transform(X_train)\n",
        "X_test = scaler.transform(X_test)\n",
        "\n",
        "logistic_regression_classifier.fit(X_train, y_train)\n",
        "\n",
        "y_pred_lr = logistic_regression_classifier.predict(X_test)\n",
        "print(\"Multinomial Logistic Regression Classifier:\")\n",
        "print(\"Accuracy:\", accuracy_score(y_test, y_pred_lr))\n",
        "print(\"Classification Report:\\n\", classification_report(y_test, y_pred_lr))\n",
        "conf_matrix = confusion_matrix(y_test,y_pred_lr)\n",
        "sns.heatmap(conf_matrix,annot=True)"
      ]
    },
    {
      "cell_type": "code",
      "execution_count": null,
      "metadata": {
        "id": "3Nk2fv9mPQLH"
      },
      "outputs": [],
      "source": [
        "# Prepare data and labels\n",
        "X_train, y_train = prepare_data_and_labels(\"/content/aug_gray_train\", top_species)\n",
        "X_test, y_test = prepare_data_and_labels(\"/content/gray_test\", top_species)\n",
        "\n",
        "logistic_regression_classifier = LogisticRegression(solver='saga', multi_class='multinomial', random_state=464, max_iter=100)\n",
        "\n",
        "scaler = StandardScaler()\n",
        "X_train = scaler.fit_transform(X_train)\n",
        "X_test = scaler.transform(X_test)\n",
        "\n",
        "logistic_regression_classifier.fit(X_train, y_train)\n",
        "\n",
        "y_pred_lr = logistic_regression_classifier.predict(X_test)\n",
        "print(\"Multinomial Logistic Regression Classifier:\")\n",
        "print(\"Accuracy:\", accuracy_score(y_test, y_pred_lr))\n",
        "print(\"Classification Report:\\n\", classification_report(y_test, y_pred_lr))\n",
        "conf_matrix = confusion_matrix(y_test,y_pred_lr)\n",
        "sns.heatmap(conf_matrix,annot=True)"
      ]
    },
    {
      "cell_type": "code",
      "execution_count": null,
      "metadata": {
        "id": "OYtV-de6RDLN"
      },
      "outputs": [],
      "source": [
        "X_train.shape,X_test.shape,y_train.shape,y_test.shape"
      ]
    },
    {
      "cell_type": "markdown",
      "metadata": {
        "id": "GuK72dLSREgm"
      },
      "source": [
        "## Apply PCA and compare results"
      ]
    },
    {
      "cell_type": "code",
      "execution_count": null,
      "metadata": {
        "id": "M0tXZ0FrSdS0"
      },
      "outputs": [],
      "source": [
        "# Prepare data and labels\n",
        "X_train, y_train = prepare_data_and_labels(\"/content/RGB_train\", top_species,img_size=(224,224))\n",
        "X_test, y_test = prepare_data_and_labels(\"/content/RGB_test\", top_species,img_size=(224,224))\n",
        "\n",
        "pca = PCA(n_components=0.90)\n",
        "scaler = StandardScaler()\n",
        "logistic_regression_classifier = LogisticRegression(solver='saga', multi_class='multinomial', random_state=464, max_iter=100)\n",
        "\n",
        "pipeline = make_pipeline(scaler, pca, logistic_regression_classifier)\n",
        "\n",
        "pipeline.fit(X_train, y_train)\n",
        "\n",
        "y_pred_lr = pipeline.predict(X_test)\n",
        "print(\"Multinomial Logistic Regression Classifier with PCA:\")\n",
        "print(\"Accuracy:\", accuracy_score(y_test, y_pred_lr))\n",
        "print(\"Classification Report:\\n\", classification_report(y_test, y_pred_lr))\n"
      ]
    },
    {
      "cell_type": "code",
      "source": [
        "# Prepare data and labels\n",
        "X_train, y_train = prepare_data_and_labels(\"/content/RGB_train\", top_species,img_size=(224,224))\n",
        "X_test, y_test = prepare_data_and_labels(\"/content/RGB_test\", top_species,img_size=(224,224))\n",
        "\n",
        "pca = PCA(n_components=0.80)\n",
        "rf_classifier = RandomForestClassifier(n_estimators=10, random_state=464)\n",
        "\n",
        "pipeline = make_pipeline(scaler, pca, rf_classifier)\n",
        "\n",
        "pipeline.fit(X_train, y_train)\n",
        "\n",
        "y_pred_rf = pipeline.predict(X_test)\n",
        "print(\"Random Forest Classifier with PCA:\")\n",
        "print(\"Accuracy:\", accuracy_score(y_test, y_pred_rf))\n",
        "print(\"Classification Report:\\n\", classification_report(y_test, y_pred_rf))"
      ],
      "metadata": {
        "id": "fYIFagCr6sTz"
      },
      "execution_count": null,
      "outputs": []
    },
    {
      "cell_type": "code",
      "source": [
        "# Prepare data and labels\n",
        "X_train, y_train = prepare_data_and_labels(\"/content/aug_RGB_train\", top_species,img_size=(224,224))\n",
        "X_test, y_test = prepare_data_and_labels(\"/content/RGB_test\", top_species,img_size=(224,224))\n",
        "\n",
        "pca = PCA(n_components=0.90)\n",
        "scaler = StandardScaler()\n",
        "logistic_regression_classifier = LogisticRegression(solver='saga', multi_class='multinomial', random_state=42, max_iter=100)\n",
        "\n",
        "pipeline = make_pipeline(scaler, pca, logistic_regression_classifier)\n",
        "\n",
        "pipeline.fit(X_train, y_train)\n",
        "\n",
        "y_pred_lr = pipeline.predict(X_test)\n",
        "print(\"Multinomial Logistic Regression Classifier with PCA:\")\n",
        "print(\"Accuracy:\", accuracy_score(y_test, y_pred_lr))\n",
        "print(\"Classification Report:\\n\", classification_report(y_test, y_pred_lr))\n"
      ],
      "metadata": {
        "id": "Bdd35SPO6y-4"
      },
      "execution_count": null,
      "outputs": []
    },
    {
      "cell_type": "markdown",
      "metadata": {
        "id": "8QPaRT9mEVOa"
      },
      "source": [
        "# CNN Model"
      ]
    },
    {
      "cell_type": "markdown",
      "metadata": {
        "id": "GfQjYHapCEjM"
      },
      "source": [
        "Initializing the dataset."
      ]
    },
    {
      "cell_type": "code",
      "execution_count": null,
      "metadata": {
        "id": "0zqdrF4sBPvd"
      },
      "outputs": [],
      "source": [
        "class BirdDataset(Dataset):\n",
        "    def __init__(self, root_dir):\n",
        "        class_names = [\"ASIAN GREEN BEE EATER\",\"CASPIAN TERN\", \"D-ARNAUDS BARBET\",\"HOUSE FINCH\",\"OVENBIRD\",\"RED BILLED TROPICBIRD\",\"RUFOUS TREPE\",\"SWINHOES PHEASANT\",\"WOOD DUCK\",\"WOOD THRUSH\"]\n",
        "        self.class_list = []\n",
        "        self.image_path_list = []\n",
        "\n",
        "        for class_id, class_name in enumerate(class_names):\n",
        "            class_dir = os.path.join(root_dir, class_name)\n",
        "            image_files = os.listdir(class_dir)\n",
        "            image_paths = [os.path.join(class_dir, image_file) for image_file in image_files]\n",
        "            self.image_path_list.extend(image_paths)\n",
        "            self.class_list.extend([class_id]*len(image_paths))\n",
        "\n",
        "        self.transform = transforms.Compose([\n",
        "            transforms.ToTensor(),\n",
        "            transforms.Normalize((0.5, 0.5, 0.5), (0.5, 0.5, 0.5))\n",
        "            ])\n",
        "\n",
        "    def __len__(self):\n",
        "        return len(self.image_path_list)\n",
        "\n",
        "    def __getitem__(self, data_id):\n",
        "        image_path = self.image_path_list[data_id]\n",
        "        image_class = self.class_list[data_id]\n",
        "        image = Image.open(image_path)\n",
        "        image_tensor = self.transform(image)\n",
        "        return image_class, image_tensor"
      ]
    },
    {
      "cell_type": "code",
      "execution_count": null,
      "metadata": {
        "id": "DSlEodshCKsZ"
      },
      "outputs": [],
      "source": [
        "train_dataset = BirdDataset(root_dir='/content/aug_RGB_train')\n",
        "train_dataloader = DataLoader(train_dataset, batch_size=64, shuffle=True)\n",
        "\n",
        "val_dataset = BirdDataset(root_dir='/content/RGB_valid')\n",
        "val_dataloader = DataLoader(val_dataset, batch_size=64, shuffle=False)\n",
        "\n",
        "test_dataset = BirdDataset(root_dir='/content/RGB_test')\n",
        "test_dataloader = DataLoader(test_dataset, batch_size=64, shuffle=False)"
      ]
    },
    {
      "cell_type": "code",
      "execution_count": null,
      "metadata": {
        "id": "1sZDqEwxOh0X"
      },
      "outputs": [],
      "source": [
        "random.seed(464)"
      ]
    },
    {
      "cell_type": "code",
      "execution_count": null,
      "metadata": {
        "id": "gxY63s3mTrZU"
      },
      "outputs": [],
      "source": [
        "#MODEL 1\n",
        "import torch.nn as nn\n",
        "import torch.nn.functional as F\n",
        "\n",
        "class BirdCNN(nn.Module):\n",
        "    def __init__(self):\n",
        "        super(BirdCNN, self).__init__()\n",
        "\n",
        "        self.conv_block_1 = nn.Sequential(\n",
        "            nn.Conv2d(in_channels=3, out_channels=16, kernel_size=3, padding=1),\n",
        "            nn.BatchNorm2d(16),\n",
        "            nn.ReLU(),\n",
        "            nn.MaxPool2d(kernel_size=2, stride=2)\n",
        "        )\n",
        "\n",
        "        self.conv_block_2 = nn.Sequential(\n",
        "            nn.Conv2d(in_channels=16, out_channels=32, kernel_size=3, padding=1),\n",
        "            nn.BatchNorm2d(32),\n",
        "            nn.ReLU(),\n",
        "            nn.MaxPool2d(kernel_size=2, stride=2)\n",
        "        )\n",
        "\n",
        "        self.conv_block_3 = nn.Sequential(\n",
        "            nn.Conv2d(in_channels=32, out_channels=64, kernel_size=3, padding=1),\n",
        "            nn.BatchNorm2d(64),\n",
        "            nn.ReLU(),\n",
        "            nn.MaxPool2d(kernel_size=2, stride=2)\n",
        "        )\n",
        "\n",
        "        self.flatten = nn.Flatten()\n",
        "\n",
        "        self.fc_layers = nn.Sequential(\n",
        "            nn.Linear(in_features=64*28*28, out_features=128),\n",
        "            nn.ReLU(),\n",
        "            #nn.Dropout(0.3),\n",
        "            nn.Linear(in_features=128, out_features=64),\n",
        "            nn.ReLU(),\n",
        "            nn.Linear(in_features=64, out_features=10)\n",
        "        )\n",
        "\n",
        "        self.sigmoid = nn.Sigmoid()\n",
        "\n",
        "    def forward(self, x):\n",
        "        x = self.conv_block_1(x)  # Bx3x224x224 --> Bx16x112x112\n",
        "        x = self.conv_block_2(x)  # Bx16x112x112 --> Bx32x56x56\n",
        "        x = self.conv_block_3(x)  # Bx32x56x56 --> Bx64x28x28\n",
        "        x = self.flatten(x)       # Bx64x28x28 --> Bx50176\n",
        "        x = self.fc_layers(x)     # Bx50176 --> Bx128 --> Bx64 --> Bx10\n",
        "        x = self.sigmoid(x)\n",
        "        return x\n"
      ]
    },
    {
      "cell_type": "code",
      "source": [
        "#MODEL 2\n",
        "import torch.nn as nn\n",
        "import torch.nn.functional as F\n",
        "\n",
        "class AlternativeBirdCNN(nn.Module):\n",
        "    def __init__(self):\n",
        "        super(AlternativeBirdCNN, self).__init__()\n",
        "\n",
        "        self.conv_block_1 = nn.Sequential(\n",
        "            nn.Conv2d(in_channels=3, out_channels=32, kernel_size=3, padding=1),\n",
        "            nn.BatchNorm2d(32),\n",
        "            nn.ReLU(),\n",
        "            nn.MaxPool2d(kernel_size=2, stride=2)\n",
        "        )\n",
        "\n",
        "        self.conv_block_2 = nn.Sequential(\n",
        "            nn.Conv2d(in_channels=32, out_channels=64, kernel_size=3, padding=1),\n",
        "            nn.BatchNorm2d(64),\n",
        "            nn.ReLU(),\n",
        "            nn.MaxPool2d(kernel_size=2, stride=2)\n",
        "        )\n",
        "\n",
        "        self.conv_block_3 = nn.Sequential(\n",
        "            nn.Conv2d(in_channels=64, out_channels=128, kernel_size=3, padding=1),\n",
        "            nn.BatchNorm2d(128),\n",
        "            nn.ReLU(),\n",
        "            nn.MaxPool2d(kernel_size=2, stride=2)\n",
        "        )\n",
        "\n",
        "        self.conv_block_4 = nn.Sequential(\n",
        "            nn.Conv2d(in_channels=128, out_channels=256, kernel_size=3, padding=1),\n",
        "            nn.BatchNorm2d(256),\n",
        "            nn.ReLU(),\n",
        "            nn.MaxPool2d(kernel_size=2, stride=2)\n",
        "        )\n",
        "\n",
        "        self.flatten = nn.Flatten()\n",
        "\n",
        "        self.fc_layers = nn.Sequential(\n",
        "            nn.Linear(in_features=256 * 14 * 14, out_features=512),\n",
        "            nn.ReLU(),\n",
        "            nn.Linear(in_features=512, out_features=256),\n",
        "            nn.ReLU(),\n",
        "            nn.Linear(in_features=256, out_features=128),\n",
        "            nn.ReLU(),\n",
        "            nn.Linear(in_features=128, out_features=10)\n",
        "        )\n",
        "\n",
        "        self.softmax = nn.Softmax(dim=1)\n",
        "\n",
        "    def forward(self, x):\n",
        "        x = self.conv_block_1(x)\n",
        "        x = self.conv_block_2(x)\n",
        "        x = self.conv_block_3(x)\n",
        "        x = self.conv_block_4(x)\n",
        "        x = self.flatten(x)\n",
        "        x = self.fc_layers(x)\n",
        "        x = self.softmax(x)\n",
        "        return x"
      ],
      "metadata": {
        "id": "31bYrH_v6mJb"
      },
      "execution_count": null,
      "outputs": []
    },
    {
      "cell_type": "code",
      "source": [
        "#MODEL 3\n",
        "\n",
        "import torch.nn as nn\n",
        "import torch.nn.functional as F\n",
        "\n",
        "class ModifiedBirdCNN(nn.Module):\n",
        "    def __init__(self):\n",
        "        super(ModifiedBirdCNN, self).__init__()\n",
        "\n",
        "        self.conv_block_1 = nn.Sequential(\n",
        "            nn.Conv2d(in_channels=3, out_channels=16, kernel_size=3, padding=1),\n",
        "            nn.BatchNorm2d(16),\n",
        "            nn.ReLU(),\n",
        "            nn.MaxPool2d(kernel_size=2, stride=2)\n",
        "        )\n",
        "\n",
        "        self.conv_block_2 = nn.Sequential(\n",
        "            nn.Conv2d(in_channels=16, out_channels=32, kernel_size=3, padding=1),\n",
        "            nn.BatchNorm2d(32),\n",
        "            nn.ReLU(),\n",
        "            nn.MaxPool2d(kernel_size=2, stride=2)\n",
        "        )\n",
        "\n",
        "        self.conv_block_3 = nn.Sequential(\n",
        "            nn.Conv2d(in_channels=32, out_channels=64, kernel_size=3, padding=1),\n",
        "            nn.BatchNorm2d(64),\n",
        "            nn.ReLU(),\n",
        "            nn.MaxPool2d(kernel_size=2, stride=2)\n",
        "        )\n",
        "\n",
        "        self.conv_block_4 = nn.Sequential(\n",
        "            nn.Conv2d(in_channels=64, out_channels=128, kernel_size=3, padding=1),\n",
        "            nn.BatchNorm2d(128),\n",
        "            nn.ReLU(),\n",
        "            nn.MaxPool2d(kernel_size=2, stride=2)\n",
        "        )\n",
        "\n",
        "        # Global Average Pooling\n",
        "        self.global_avg_pooling = nn.AdaptiveAvgPool2d(1)\n",
        "\n",
        "        self.fc_layers = nn.Sequential(\n",
        "            nn.Linear(in_features=128, out_features=64),\n",
        "            nn.ReLU(),\n",
        "            nn.Linear(in_features=64, out_features=10)\n",
        "        )\n",
        "\n",
        "    def forward(self, x):\n",
        "        x = self.conv_block_1(x)\n",
        "        x = self.conv_block_2(x)\n",
        "        x = self.conv_block_3(x)\n",
        "        x = self.conv_block_4(x)\n",
        "\n",
        "        # Global Average Pooling\n",
        "        x = self.global_avg_pooling(x)\n",
        "        x = x.view(x.size(0), -1)\n",
        "\n",
        "        x = self.fc_layers(x)\n",
        "        return x\n",
        "\n"
      ],
      "metadata": {
        "id": "-qSq5QSa2HIY"
      },
      "execution_count": null,
      "outputs": []
    },
    {
      "cell_type": "code",
      "execution_count": null,
      "metadata": {
        "id": "xBXSPHDnD4v8"
      },
      "outputs": [],
      "source": [
        "# Check if a GPU is available and move the model to the GPU\n",
        "device = torch.device(\"cuda\" if torch.cuda.is_available() else \"cpu\")\n",
        "model = ModifiedBirdCNN().to(device)\n",
        "loss_func = nn.CrossEntropyLoss()\n",
        "\n",
        "learning_rate = 2e-4\n",
        "optimizer = optim.Adam(model.parameters(), lr=learning_rate)"
      ]
    },
    {
      "cell_type": "code",
      "source": [
        "model = ModifiedBirdCNN()  # Instantiate the improved model\n",
        "\n",
        "loss_func = nn.CrossEntropyLoss()  # CrossEntropyLoss is appropriate for multi-class classification\n",
        "learning_rate = 2e-4\n",
        "optimizer = optim.Adam(model.parameters(), lr=learning_rate)"
      ],
      "metadata": {
        "id": "1qp3LZDv6tS3"
      },
      "execution_count": null,
      "outputs": []
    },
    {
      "cell_type": "code",
      "source": [
        "#TRAINING WITH LOCAL GPU\n",
        "\n",
        "from tqdm import tqdm\n",
        "\n",
        "# Modify the data loading to move batches to the same device as the model\n",
        "num_batches = len(train_dataloader)\n",
        "num_epochs = 15\n",
        "iter_losses = []\n",
        "epoch_losses = []\n",
        "\n",
        "for epoch in tqdm(range(num_epochs), desc=\"Training Progress\", total=num_epochs, position=0, leave=True):\n",
        "    total_iter_loss = 0.0\n",
        "    for image_class_batch, image_tensor_batch in tqdm(train_dataloader, desc=f\"Epoch: {epoch+1}\", total=num_batches, position=0, leave=True):\n",
        "        # Move data to the same device as the model\n",
        "        image_tensor_batch, image_class_batch = image_tensor_batch.to(device), image_class_batch.to(device)\n",
        "\n",
        "        optimizer.zero_grad()\n",
        "        batch_output = model(image_tensor_batch)\n",
        "        loss = loss_func(batch_output, image_class_batch)\n",
        "        loss.backward()\n",
        "        optimizer.step()\n",
        "\n",
        "        iter_losses.append(loss.item())\n",
        "        total_iter_loss += loss.item()\n",
        "    epoch_loss = total_iter_loss / num_batches\n",
        "    epoch_losses.append(epoch_loss)\n",
        "    print(f\"\\nEpoch {epoch+1} Loss: {epoch_loss}\")\n",
        "\n",
        "print(\"Training is finished!\")"
      ],
      "metadata": {
        "id": "BYMFw_0lctv1"
      },
      "execution_count": null,
      "outputs": []
    },
    {
      "cell_type": "code",
      "execution_count": null,
      "metadata": {
        "id": "T7YKqJS8EAE0"
      },
      "outputs": [],
      "source": [
        "from tqdm import tqdm\n",
        "\n",
        "num_batches = len(train_dataloader)\n",
        "num_epochs = 15\n",
        "iter_losses = []\n",
        "epoch_losses = []\n",
        "\n",
        "for epoch in tqdm(range(num_epochs), desc=\"Training Progress\", total=num_epochs, position=0, leave=True):\n",
        "    total_iter_loss = 0.0\n",
        "    for image_class_batch, image_tensor_batch in tqdm(train_dataloader, desc=f\"Epoch: {epoch+1}\", total=num_batches, position=0, leave=True):\n",
        "        optimizer.zero_grad()\n",
        "        batch_output = model(image_tensor_batch)\n",
        "        loss = loss_func(batch_output, image_class_batch)\n",
        "        loss.backward()\n",
        "        optimizer.step()\n",
        "\n",
        "        iter_losses.append(loss.item())\n",
        "        total_iter_loss += loss.item()\n",
        "    epoch_loss = total_iter_loss / num_batches\n",
        "    epoch_losses.append(epoch_loss)\n",
        "    print(f\"\\nEpoch {epoch+1} Loss: {epoch_loss}\")\n",
        "\n",
        "print(\"Training is finished!\")"
      ]
    },
    {
      "cell_type": "code",
      "execution_count": null,
      "metadata": {
        "id": "Xg-h8WKnEDq1"
      },
      "outputs": [],
      "source": [
        "plt.plot(range(len(iter_losses)), iter_losses)\n",
        "plt.xlabel(\"Iteration\")\n",
        "plt.ylabel(\"Loss\")\n",
        "plt.title(\"Training Loss per Iteration\")\n",
        "plt.show()"
      ]
    },
    {
      "cell_type": "code",
      "execution_count": null,
      "metadata": {
        "id": "pY6PBLKTEFf5"
      },
      "outputs": [],
      "source": [
        "plt.plot(range(len(epoch_losses)), epoch_losses)\n",
        "plt.xlabel(\"Epoch\")\n",
        "plt.ylabel(\"Loss\")\n",
        "plt.title(\"Training Loss per Epoch\")\n",
        "plt.show()"
      ]
    },
    {
      "cell_type": "code",
      "source": [
        "#EVALUATION IN LOCAL GPU\n",
        "\n",
        "model.eval()\n",
        "\n",
        "num_pred_correct = 0\n",
        "num_pred_total = 0\n",
        "pred_class_list = []\n",
        "gt_class_list = []\n",
        "\n",
        "# Move the model to the GPU if available\n",
        "device = torch.device(\"cuda\" if torch.cuda.is_available() else \"cpu\")\n",
        "model = model.to(device)\n",
        "\n",
        "with torch.no_grad():\n",
        "    for batch_image_class, batch_image_tensor in val_dataloader:\n",
        "        # Move data to the same device as the model\n",
        "        batch_image_tensor, batch_image_class = batch_image_tensor.to(device), batch_image_class.to(device)\n",
        "\n",
        "\n",
        "        batch_outputs = model(batch_image_tensor)\n",
        "\n",
        "        # Use torch.argmax instead of np.argmax\n",
        "        pred_classes = torch.argmax(batch_outputs, axis=1)\n",
        "\n",
        "        num_pred_total += len(pred_classes)\n",
        "        num_pred_correct += (pred_classes == batch_image_class).sum().item()\n",
        "\n",
        "        pred_class_list.extend(list(pred_classes.cpu().numpy()))\n",
        "        gt_class_list.extend(list(batch_image_class.cpu().numpy()))\n",
        "\n",
        "    print(\"Validation Accuracy: {:.2%}\".format(num_pred_correct / num_pred_total))"
      ],
      "metadata": {
        "id": "H9QVQ8NTeS1L"
      },
      "execution_count": null,
      "outputs": []
    },
    {
      "cell_type": "code",
      "execution_count": null,
      "metadata": {
        "id": "WMVPYANxEIeq"
      },
      "outputs": [],
      "source": [
        "model.eval()\n",
        "\n",
        "num_pred_correct = 0\n",
        "num_pred_total = 0\n",
        "pred_class_list = []\n",
        "gt_class_list = []\n",
        "\n",
        "with torch.no_grad():\n",
        "    for batch_image_class, batch_image_tensor in val_dataloader:\n",
        "        batch_outputs = model(batch_image_tensor)\n",
        "\n",
        "        batch_image_class = batch_image_class.numpy()\n",
        "        batch_outputs = batch_outputs.cpu().numpy()\n",
        "        pred_classes = np.argmax(batch_outputs, axis=1)\n",
        "\n",
        "        num_pred_total += len(pred_classes)\n",
        "        num_pred_correct += (pred_classes == batch_image_class).sum()\n",
        "\n",
        "        pred_class_list.extend(list(pred_classes))\n",
        "        gt_class_list.extend(list(batch_image_class))\n",
        "\n",
        "    print(\"Validation Accuracy: {}\".format(num_pred_correct / num_pred_total))"
      ]
    },
    {
      "cell_type": "code",
      "execution_count": null,
      "metadata": {
        "id": "VmMUdQAmFl-M"
      },
      "outputs": [],
      "source": [
        "num_classes = 10\n",
        "confusion_matrix = np.zeros((num_classes, num_classes), np.int32)\n",
        "for sample_id in range(len(gt_class_list)):\n",
        "    pred_class = pred_class_list[sample_id]\n",
        "    gt_class = gt_class_list[sample_id]\n",
        "    confusion_matrix[gt_class, pred_class] += 1\n",
        "sns.heatmap(confusion_matrix, annot=True, fmt=\"d\")"
      ]
    },
    {
      "cell_type": "code",
      "source": [
        "#TEST EVALUATION IN LOCAL GPU\n",
        "\n",
        "model.eval()\n",
        "\n",
        "num_pred_correct = 0\n",
        "num_pred_total = 0\n",
        "pred_class_list = []\n",
        "gt_class_list = []\n",
        "\n",
        "# Move the model to the GPU if available\n",
        "device = torch.device(\"cuda\" if torch.cuda.is_available() else \"cpu\")\n",
        "model = model.to(device)\n",
        "\n",
        "with torch.no_grad():\n",
        "    for batch_image_class, batch_image_tensor in test_dataloader:\n",
        "        # Move data to the same device as the model\n",
        "        batch_image_tensor, batch_image_class = batch_image_tensor.to(device), batch_image_class.to(device)\n",
        "\n",
        "\n",
        "        batch_outputs = model(batch_image_tensor)\n",
        "\n",
        "        # Use torch.argmax instead of np.argmax\n",
        "        pred_classes = torch.argmax(batch_outputs, axis=1)\n",
        "\n",
        "        num_pred_total += len(pred_classes)\n",
        "        num_pred_correct += (pred_classes == batch_image_class).sum().item()\n",
        "\n",
        "        pred_class_list.extend(list(pred_classes.cpu().numpy()))\n",
        "        gt_class_list.extend(list(batch_image_class.cpu().numpy()))\n",
        "\n",
        "    print(\"Test Accuracy: {:.2%}\".format(num_pred_correct / num_pred_total))"
      ],
      "metadata": {
        "id": "QKo_L4mexI6e"
      },
      "execution_count": null,
      "outputs": []
    },
    {
      "cell_type": "code",
      "source": [
        "num_classes = 10\n",
        "confusion_matrix = np.zeros((num_classes, num_classes), np.int32)\n",
        "for sample_id in range(len(gt_class_list)):\n",
        "    pred_class = pred_class_list[sample_id]\n",
        "    gt_class = gt_class_list[sample_id]\n",
        "    confusion_matrix[gt_class, pred_class] += 1\n",
        "sns.heatmap(confusion_matrix, annot=True, fmt=\"d\")"
      ],
      "metadata": {
        "id": "FnRj0Ey3xNhY"
      },
      "execution_count": null,
      "outputs": []
    },
    {
      "cell_type": "markdown",
      "source": [
        "# EfficientNet-B0\n"
      ],
      "metadata": {
        "id": "lV8JRZlgtDv-"
      }
    },
    {
      "cell_type": "code",
      "source": [
        "def data_generators(train_path, valid_path, test_path, batch_size = 16, target_size = (224, 224)):\n",
        "  train_datagen = ImageDataGenerator(preprocessing_function = preprocess_input)\n",
        "  valid_datagen = ImageDataGenerator(preprocessing_function=preprocess_input)\n",
        "  test_datagen = ImageDataGenerator(preprocessing_function=preprocess_input)\n",
        "\n",
        "  train_generator = train_datagen.flow_from_directory(\n",
        "      train_path,\n",
        "      target_size = target_size,\n",
        "      batch_size = batch_size,\n",
        "      class_mode = \"categorical\"\n",
        "  )\n",
        "\n",
        "  valid_generator = valid_datagen.flow_from_directory(\n",
        "      valid_path,\n",
        "      target_size = target_size,\n",
        "      batch_size = batch_size,\n",
        "      class_mode = \"categorical\"\n",
        "  )\n",
        "\n",
        "  test_generator = test_datagen.flow_from_directory(\n",
        "      test_path,\n",
        "      target_size = target_size,\n",
        "      batch_size = batch_size,\n",
        "      class_mode = \"categorical\",\n",
        "      shuffle=False\n",
        "  )\n",
        "  return train_generator, valid_generator, test_generator\n",
        "\n",
        "\n",
        "\n",
        "def apply_transfer_learning(base_model, base_model_type, train_path, valid_path, test_path):\n",
        "  for layer in base_model.layers:\n",
        "      layer.trainable = False\n",
        "  checkpoint_cb = ModelCheckpoint(\n",
        "      'model.h5',  # Path where to save the model\n",
        "      save_best_only=True,        # Save only the best model\n",
        "      monitor='val_accuracy',     # Performance metric to monitor\n",
        "      mode='max',                 # Mode for the monitored metric ('max' for accuracy)\n",
        "      verbose=1                   # Verbosity level\n",
        "    )\n",
        "  early_stopping_cb = EarlyStopping(\n",
        "    monitor='val_accuracy',    # Performance metric to monitor\n",
        "    patience=5,                # Number of epochs with no improvement after which training will be stopped\n",
        "    restore_best_weights=True, # Restore model weights from the epoch with the best value of the monitored metric\n",
        "    verbose=1                  # Verbosity level\n",
        "  )\n",
        "\n",
        "  X = base_model.output\n",
        "  X = GlobalAveragePooling2D()(X)\n",
        "  if (base_model_type ==  \"efficientnetb0\"):\n",
        "    X = Dense(10, activation = \"softmax\")(X)\n",
        "    model = Model(inputs = base_model.input, outputs = X) # <- our model to be trained\n",
        "  elif (base_model_type == \"resnet50\"):\n",
        "    X = Dense(1024, activation = \"relu\")(X) # <- add a fully connected layer\n",
        "    predictions = Dense(10, activation = \"softmax\")(X) # <- add a 10-class softmax layer at the end\n",
        "    model = Model(inputs = base_model.input, outputs = predictions) # <- our model to be trained\n",
        "\n",
        "\n",
        "  model.compile(optimizer='adam', loss='categorical_crossentropy', metrics=['accuracy'])\n",
        "\n",
        "  train_generator, valid_generator, test_generator = data_generators( train_path, valid_path, test_path)\n",
        "  history = model.fit(\n",
        "                      train_generator,\n",
        "                      epochs = 10,\n",
        "                      validation_data = valid_generator,\n",
        "                      callbacks=[checkpoint_cb, early_stopping_cb]\n",
        "                       )\n",
        "  test_loss, test_accuracy = model.evaluate(test_generator)\n",
        "  true_classes = test_generator.classes\n",
        "  predicted_classes = make_inference(model, test_generator)\n",
        "  cm = confusion_matrix(true_classes, predicted_classes)\n",
        "  sns.heatmap(cm, annot = True)\n",
        "  return history,test_loss, test_accuracy\n",
        "\n",
        "def plot_history(history, title, data_type, is_aug = False):\n",
        "  # Plotting training and validation accuracy\n",
        "  plt.plot(history.history['accuracy'])\n",
        "  plt.plot(history.history['val_accuracy'])\n",
        "  if is_aug:\n",
        "    plt.title(f\"Model accuracy for {title} Model with Augmented {data_type} Data\")\n",
        "  else:\n",
        "    plt.title(f\"Model accuracy for {title} Model with Not Augmented {data_type} Data\")\n",
        "\n",
        "  plt.ylabel('Accuracy')\n",
        "  plt.xlabel('Epoch')\n",
        "  plt.legend(['Train', 'Validation'], loc='upper left')\n",
        "  plt.show()\n",
        "\n",
        "  # Plotting training and validation loss\n",
        "  plt.plot(history.history['loss'])\n",
        "  plt.plot(history.history['val_loss'])\n",
        "  if is_aug:\n",
        "    plt.title(f\"Model loss for {title} Model with Augmented {data_type} Data\")\n",
        "  else:\n",
        "    plt.title(f\"Model loss for {title} Model with Not Augmented {data_type} Data\")\n",
        "  plt.ylabel('Loss')\n",
        "  plt.xlabel('Epoch')\n",
        "  plt.legend(['Train', 'Validation'], loc='upper left')\n",
        "  plt.show()\n",
        "\n",
        "\n",
        "def make_inference(model, test_generator):\n",
        "\n",
        "    test_generator.reset()\n",
        "\n",
        "    # Make predictions\n",
        "    predictions = model.predict(test_generator, steps=len(test_generator))\n",
        "    predicted_classes = np.argmax(predictions, axis=1)\n",
        "    class_indices = test_generator.class_indices\n",
        "    predicted_classes = np.argmax(predictions, axis = 1)\n",
        "\n",
        "    return predicted_classes\n",
        "\n"
      ],
      "metadata": {
        "id": "9HGqWmBdtIw_"
      },
      "execution_count": 50,
      "outputs": []
    },
    {
      "cell_type": "code",
      "source": [
        "from keras.models import load_model"
      ],
      "metadata": {
        "id": "OQU4VhiLtTXE"
      },
      "execution_count": 51,
      "outputs": []
    },
    {
      "cell_type": "code",
      "source": [
        "history_rgb, test_loss_rgb, test_accuracy_rgb = apply_transfer_learning( EfficientNetB0(weights = \"imagenet\", include_top = False, input_shape = (224, 224, 3)),\n",
        "    \"efficientnetb0\", \"/content/RGB_train\", \"/content/RGB_valid\", \"/content/RGB_test\")\n"
      ],
      "metadata": {
        "id": "MTGRyakGtY4i",
        "colab": {
          "base_uri": "https://localhost:8080/",
          "height": 1000
        },
        "outputId": "b0c0abfe-1962-4354-f411-14539615d545"
      },
      "execution_count": 52,
      "outputs": [
        {
          "output_type": "stream",
          "name": "stdout",
          "text": [
            "Found 1000 images belonging to 10 classes.\n",
            "Found 629 images belonging to 10 classes.\n",
            "Found 634 images belonging to 10 classes.\n",
            "Epoch 1/10\n",
            "63/63 [==============================] - ETA: 0s - loss: 0.9106 - accuracy: 0.8140\n",
            "Epoch 1: val_accuracy improved from -inf to 0.95707, saving model to model.h5\n"
          ]
        },
        {
          "output_type": "stream",
          "name": "stderr",
          "text": [
            "/usr/local/lib/python3.10/dist-packages/keras/src/engine/training.py:3103: UserWarning: You are saving your model as an HDF5 file via `model.save()`. This file format is considered legacy. We recommend using instead the native Keras format, e.g. `model.save('my_model.keras')`.\n",
            "  saving_api.save_model(\n"
          ]
        },
        {
          "output_type": "stream",
          "name": "stdout",
          "text": [
            "\b\b\b\b\b\b\b\b\b\b\b\b\b\b\b\b\b\b\b\b\b\b\b\b\b\b\b\b\b\b\b\b\b\b\b\b\b\b\b\b\b\b\b\b\b\b\b\b\b\b\b\b\b\b\b\b\b\b\b\b\b\b\b\b\b\b\b\b\b\b\b\b\b\b\b\b\b\b\b\b\b\b\r63/63 [==============================] - 13s 91ms/step - loss: 0.9106 - accuracy: 0.8140 - val_loss: 0.3073 - val_accuracy: 0.9571\n",
            "Epoch 2/10\n",
            "63/63 [==============================] - ETA: 0s - loss: 0.2042 - accuracy: 0.9810\n",
            "Epoch 2: val_accuracy improved from 0.95707 to 0.97615, saving model to model.h5\n",
            "63/63 [==============================] - 5s 85ms/step - loss: 0.2042 - accuracy: 0.9810 - val_loss: 0.1666 - val_accuracy: 0.9762\n",
            "Epoch 3/10\n",
            "63/63 [==============================] - ETA: 0s - loss: 0.1170 - accuracy: 0.9920\n",
            "Epoch 3: val_accuracy improved from 0.97615 to 0.97774, saving model to model.h5\n",
            "63/63 [==============================] - 4s 65ms/step - loss: 0.1170 - accuracy: 0.9920 - val_loss: 0.1222 - val_accuracy: 0.9777\n",
            "Epoch 4/10\n",
            "63/63 [==============================] - ETA: 0s - loss: 0.0774 - accuracy: 0.9970\n",
            "Epoch 4: val_accuracy did not improve from 0.97774\n",
            "63/63 [==============================] - 4s 59ms/step - loss: 0.0774 - accuracy: 0.9970 - val_loss: 0.1017 - val_accuracy: 0.9777\n",
            "Epoch 5/10\n",
            "63/63 [==============================] - ETA: 0s - loss: 0.0591 - accuracy: 0.9970\n",
            "Epoch 5: val_accuracy improved from 0.97774 to 0.98092, saving model to model.h5\n",
            "63/63 [==============================] - 5s 82ms/step - loss: 0.0591 - accuracy: 0.9970 - val_loss: 0.0871 - val_accuracy: 0.9809\n",
            "Epoch 6/10\n",
            "63/63 [==============================] - ETA: 0s - loss: 0.0472 - accuracy: 0.9970\n",
            "Epoch 6: val_accuracy improved from 0.98092 to 0.98251, saving model to model.h5\n",
            "63/63 [==============================] - 5s 86ms/step - loss: 0.0472 - accuracy: 0.9970 - val_loss: 0.0778 - val_accuracy: 0.9825\n",
            "Epoch 7/10\n",
            "63/63 [==============================] - ETA: 0s - loss: 0.0395 - accuracy: 0.9970\n",
            "Epoch 7: val_accuracy did not improve from 0.98251\n",
            "63/63 [==============================] - 4s 60ms/step - loss: 0.0395 - accuracy: 0.9970 - val_loss: 0.0701 - val_accuracy: 0.9825\n",
            "Epoch 8/10\n",
            "63/63 [==============================] - ETA: 0s - loss: 0.0322 - accuracy: 0.9980\n",
            "Epoch 8: val_accuracy did not improve from 0.98251\n",
            "63/63 [==============================] - 4s 59ms/step - loss: 0.0322 - accuracy: 0.9980 - val_loss: 0.0669 - val_accuracy: 0.9825\n",
            "Epoch 9/10\n",
            "63/63 [==============================] - ETA: 0s - loss: 0.0267 - accuracy: 0.9980\n",
            "Epoch 9: val_accuracy did not improve from 0.98251\n",
            "63/63 [==============================] - 4s 57ms/step - loss: 0.0267 - accuracy: 0.9980 - val_loss: 0.0627 - val_accuracy: 0.9825\n",
            "Epoch 10/10\n",
            "63/63 [==============================] - ETA: 0s - loss: 0.0246 - accuracy: 0.9980\n",
            "Epoch 10: val_accuracy did not improve from 0.98251\n",
            "63/63 [==============================] - 5s 77ms/step - loss: 0.0246 - accuracy: 0.9980 - val_loss: 0.0599 - val_accuracy: 0.9825\n",
            "40/40 [==============================] - 2s 60ms/step - loss: 0.0639 - accuracy: 0.9890\n",
            "40/40 [==============================] - 3s 33ms/step\n"
          ]
        },
        {
          "output_type": "display_data",
          "data": {
            "text/plain": [
              "<Figure size 640x480 with 2 Axes>"
            ],
            "image/png": "[encoded data removed]"
          },
          "metadata": {}
        }
      ]
    },
    {
      "cell_type": "code",
      "source": [],
      "metadata": {
        "id": "M_rEdOJEkMXF"
      },
      "execution_count": null,
      "outputs": []
    },
    {
      "cell_type": "code",
      "source": [],
      "metadata": {
        "id": "XrRiUYzDgOBB"
      },
      "execution_count": null,
      "outputs": []
    },
    {
      "cell_type": "code",
      "source": [
        "history_gray, test_loss_gray, test_accuracy_gray = apply_transfer_learning( EfficientNetB0(weights = \"imagenet\", include_top = False, input_shape = (224, 224, 3)), \"efficientnetb0\", \"/content/gray_train\", \"/content/gray_valid\", \"/content/gray_test\")"
      ],
      "metadata": {
        "id": "0qJvDP35tZvO",
        "colab": {
          "base_uri": "https://localhost:8080/",
          "height": 1000
        },
        "outputId": "9565e26e-0962-41ed-b21b-b7b1f2701065"
      },
      "execution_count": 59,
      "outputs": [
        {
          "output_type": "stream",
          "name": "stdout",
          "text": [
            "Found 1000 images belonging to 10 classes.\n",
            "Found 629 images belonging to 10 classes.\n",
            "Found 634 images belonging to 10 classes.\n",
            "Epoch 1/10\n",
            "62/63 [============================>.] - ETA: 0s - loss: 0.9813 - accuracy: 0.7663\n",
            "Epoch 1: val_accuracy improved from -inf to 0.95231, saving model to model.h5\n"
          ]
        },
        {
          "output_type": "stream",
          "name": "stderr",
          "text": [
            "/usr/local/lib/python3.10/dist-packages/keras/src/engine/training.py:3103: UserWarning: You are saving your model as an HDF5 file via `model.save()`. This file format is considered legacy. We recommend using instead the native Keras format, e.g. `model.save('my_model.keras')`.\n",
            "  saving_api.save_model(\n"
          ]
        },
        {
          "output_type": "stream",
          "name": "stdout",
          "text": [
            "\b\b\b\b\b\b\b\b\b\b\b\b\b\b\b\b\b\b\b\b\b\b\b\b\b\b\b\b\b\b\b\b\b\b\b\b\b\b\b\b\b\b\b\b\b\b\b\b\b\b\b\b\b\b\b\b\b\b\b\b\b\b\b\b\b\b\b\b\b\b\b\b\b\b\b\b\b\b\b\b\b\b\r63/63 [==============================] - 18s 112ms/step - loss: 0.9727 - accuracy: 0.7680 - val_loss: 0.3895 - val_accuracy: 0.9523\n",
            "Epoch 2/10\n",
            "62/63 [============================>.] - ETA: 0s - loss: 0.2813 - accuracy: 0.9583\n",
            "Epoch 2: val_accuracy improved from 0.95231 to 0.96661, saving model to model.h5\n",
            "63/63 [==============================] - 4s 69ms/step - loss: 0.2794 - accuracy: 0.9580 - val_loss: 0.2230 - val_accuracy: 0.9666\n",
            "Epoch 3/10\n",
            "63/63 [==============================] - ETA: 0s - loss: 0.1675 - accuracy: 0.9820\n",
            "Epoch 3: val_accuracy did not improve from 0.96661\n",
            "63/63 [==============================] - 4s 66ms/step - loss: 0.1675 - accuracy: 0.9820 - val_loss: 0.1715 - val_accuracy: 0.9634\n",
            "Epoch 4/10\n",
            "63/63 [==============================] - ETA: 0s - loss: 0.1213 - accuracy: 0.9870\n",
            "Epoch 4: val_accuracy improved from 0.96661 to 0.97774, saving model to model.h5\n",
            "63/63 [==============================] - 4s 67ms/step - loss: 0.1213 - accuracy: 0.9870 - val_loss: 0.1387 - val_accuracy: 0.9777\n",
            "Epoch 5/10\n",
            "63/63 [==============================] - ETA: 0s - loss: 0.0915 - accuracy: 0.9910\n",
            "Epoch 5: val_accuracy improved from 0.97774 to 0.97933, saving model to model.h5\n",
            "63/63 [==============================] - 5s 87ms/step - loss: 0.0915 - accuracy: 0.9910 - val_loss: 0.1202 - val_accuracy: 0.9793\n",
            "Epoch 6/10\n",
            "63/63 [==============================] - ETA: 0s - loss: 0.0720 - accuracy: 0.9960\n",
            "Epoch 6: val_accuracy did not improve from 0.97933\n",
            "63/63 [==============================] - 4s 59ms/step - loss: 0.0720 - accuracy: 0.9960 - val_loss: 0.1099 - val_accuracy: 0.9793\n",
            "Epoch 7/10\n",
            "62/63 [============================>.] - ETA: 0s - loss: 0.0653 - accuracy: 0.9929\n",
            "Epoch 7: val_accuracy improved from 0.97933 to 0.98251, saving model to model.h5\n",
            "63/63 [==============================] - 6s 97ms/step - loss: 0.0655 - accuracy: 0.9930 - val_loss: 0.1021 - val_accuracy: 0.9825\n",
            "Epoch 8/10\n",
            "63/63 [==============================] - ETA: 0s - loss: 0.0467 - accuracy: 0.9970\n",
            "Epoch 8: val_accuracy did not improve from 0.98251\n",
            "63/63 [==============================] - 4s 60ms/step - loss: 0.0467 - accuracy: 0.9970 - val_loss: 0.0954 - val_accuracy: 0.9793\n",
            "Epoch 9/10\n",
            "63/63 [==============================] - ETA: 0s - loss: 0.0446 - accuracy: 0.9980\n",
            "Epoch 9: val_accuracy did not improve from 0.98251\n",
            "63/63 [==============================] - 4s 59ms/step - loss: 0.0446 - accuracy: 0.9980 - val_loss: 0.0890 - val_accuracy: 0.9793\n",
            "Epoch 10/10\n",
            "63/63 [==============================] - ETA: 0s - loss: 0.0370 - accuracy: 0.9980\n",
            "Epoch 10: val_accuracy did not improve from 0.98251\n",
            "63/63 [==============================] - 4s 71ms/step - loss: 0.0370 - accuracy: 0.9980 - val_loss: 0.0831 - val_accuracy: 0.9809\n",
            "40/40 [==============================] - 1s 36ms/step - loss: 0.0927 - accuracy: 0.9858\n",
            "40/40 [==============================] - 3s 32ms/step\n"
          ]
        },
        {
          "output_type": "display_data",
          "data": {
            "text/plain": [
              "<Figure size 640x480 with 2 Axes>"
            ],
            "image/png": "[encoded data removed]"
          },
          "metadata": {}
        }
      ]
    },
    {
      "cell_type": "code",
      "source": [
        "history_rgb_aug, test_loss_rgb_aug, test_accuracy_rgb_aug = apply_transfer_learning( EfficientNetB0(weights = \"imagenet\", include_top = False, input_shape = (224, 224, 3)), \"efficientnetb0\", \"/content/aug_RGB_train\", \"/content/aug_RGB_valid\", \"/content/aug_RGB_test\")"
      ],
      "metadata": {
        "colab": {
          "base_uri": "https://localhost:8080/",
          "height": 1000
        },
        "id": "8e55hGpkqhTz",
        "outputId": "9396df68-4a84-4eb4-d556-d70699d40d3c"
      },
      "execution_count": 60,
      "outputs": [
        {
          "output_type": "stream",
          "name": "stdout",
          "text": [
            "Found 5000 images belonging to 10 classes.\n",
            "Found 3145 images belonging to 10 classes.\n",
            "Found 3170 images belonging to 10 classes.\n",
            "Epoch 1/10\n",
            "312/313 [============================>.] - ETA: 0s - loss: 0.3071 - accuracy: 0.9452\n",
            "Epoch 1: val_accuracy improved from -inf to 0.97424, saving model to model.h5\n"
          ]
        },
        {
          "output_type": "stream",
          "name": "stderr",
          "text": [
            "/usr/local/lib/python3.10/dist-packages/keras/src/engine/training.py:3103: UserWarning: You are saving your model as an HDF5 file via `model.save()`. This file format is considered legacy. We recommend using instead the native Keras format, e.g. `model.save('my_model.keras')`.\n",
            "  saving_api.save_model(\n"
          ]
        },
        {
          "output_type": "stream",
          "name": "stdout",
          "text": [
            "\b\b\b\b\b\b\b\b\b\b\b\b\b\b\b\b\b\b\b\b\b\b\b\b\b\b\b\b\b\b\b\b\b\b\b\b\b\b\b\b\b\b\b\b\b\b\b\b\b\b\b\b\b\b\b\b\b\b\b\b\b\b\b\b\b\b\b\b\b\b\b\b\b\b\b\b\b\b\b\b\b\b\b\b\r313/313 [==============================] - 29s 67ms/step - loss: 0.3063 - accuracy: 0.9454 - val_loss: 0.1096 - val_accuracy: 0.9742\n",
            "Epoch 2/10\n",
            "312/313 [============================>.] - ETA: 0s - loss: 0.0457 - accuracy: 0.9970\n",
            "Epoch 2: val_accuracy improved from 0.97424 to 0.97901, saving model to model.h5\n",
            "313/313 [==============================] - 20s 63ms/step - loss: 0.0456 - accuracy: 0.9970 - val_loss: 0.0775 - val_accuracy: 0.9790\n",
            "Epoch 3/10\n",
            "313/313 [==============================] - ETA: 0s - loss: 0.0243 - accuracy: 0.9984\n",
            "Epoch 3: val_accuracy improved from 0.97901 to 0.98092, saving model to model.h5\n",
            "313/313 [==============================] - 19s 60ms/step - loss: 0.0243 - accuracy: 0.9984 - val_loss: 0.0667 - val_accuracy: 0.9809\n",
            "Epoch 4/10\n",
            "313/313 [==============================] - ETA: 0s - loss: 0.0146 - accuracy: 0.9998\n",
            "Epoch 4: val_accuracy improved from 0.98092 to 0.98188, saving model to model.h5\n",
            "313/313 [==============================] - 36s 115ms/step - loss: 0.0146 - accuracy: 0.9998 - val_loss: 0.0622 - val_accuracy: 0.9819\n",
            "Epoch 5/10\n",
            "312/313 [============================>.] - ETA: 0s - loss: 0.0107 - accuracy: 0.9998\n",
            "Epoch 5: val_accuracy improved from 0.98188 to 0.98219, saving model to model.h5\n",
            "313/313 [==============================] - 19s 60ms/step - loss: 0.0107 - accuracy: 0.9998 - val_loss: 0.0597 - val_accuracy: 0.9822\n",
            "Epoch 6/10\n",
            "313/313 [==============================] - ETA: 0s - loss: 0.0078 - accuracy: 0.9998\n",
            "Epoch 6: val_accuracy did not improve from 0.98219\n",
            "313/313 [==============================] - 19s 61ms/step - loss: 0.0078 - accuracy: 0.9998 - val_loss: 0.0591 - val_accuracy: 0.9812\n",
            "Epoch 7/10\n",
            "313/313 [==============================] - ETA: 0s - loss: 0.0062 - accuracy: 0.9996\n",
            "Epoch 7: val_accuracy improved from 0.98219 to 0.98315, saving model to model.h5\n",
            "313/313 [==============================] - 19s 59ms/step - loss: 0.0062 - accuracy: 0.9996 - val_loss: 0.0543 - val_accuracy: 0.9831\n",
            "Epoch 8/10\n",
            "313/313 [==============================] - ETA: 0s - loss: 0.0050 - accuracy: 0.9998\n",
            "Epoch 8: val_accuracy did not improve from 0.98315\n",
            "313/313 [==============================] - 19s 59ms/step - loss: 0.0050 - accuracy: 0.9998 - val_loss: 0.0539 - val_accuracy: 0.9825\n",
            "Epoch 9/10\n",
            "313/313 [==============================] - ETA: 0s - loss: 0.0044 - accuracy: 0.9998\n",
            "Epoch 9: val_accuracy did not improve from 0.98315\n",
            "313/313 [==============================] - 19s 59ms/step - loss: 0.0044 - accuracy: 0.9998 - val_loss: 0.0574 - val_accuracy: 0.9812\n",
            "Epoch 10/10\n",
            "312/313 [============================>.] - ETA: 0s - loss: 0.0033 - accuracy: 0.9998\n",
            "Epoch 10: val_accuracy did not improve from 0.98315\n",
            "313/313 [==============================] - 18s 59ms/step - loss: 0.0033 - accuracy: 0.9998 - val_loss: 0.0573 - val_accuracy: 0.9825\n",
            "199/199 [==============================] - 8s 39ms/step - loss: 0.0701 - accuracy: 0.9858\n",
            "199/199 [==============================] - 10s 40ms/step\n"
          ]
        },
        {
          "output_type": "display_data",
          "data": {
            "text/plain": [
              "<Figure size 640x480 with 2 Axes>"
            ],
            "image/png": "[encoded data removed]"
          },
          "metadata": {}
        }
      ]
    },
    {
      "cell_type": "code",
      "source": [
        "history_gray_aug, test_loss_gray_aug, test_accuracy_gray_aug = apply_transfer_learning( EfficientNetB0(weights = \"imagenet\", include_top = False, input_shape = (224, 224, 3)), \"efficientnetb0\", \"/content/aug_gray_train\", \"/content/aug_gray_valid\", \"/content/aug_gray_test\")"
      ],
      "metadata": {
        "colab": {
          "base_uri": "https://localhost:8080/",
          "height": 1000
        },
        "id": "dIysnY-GqjYU",
        "outputId": "5c10771d-ad54-4faa-8b6d-caaa6e5967df"
      },
      "execution_count": 61,
      "outputs": [
        {
          "output_type": "stream",
          "name": "stdout",
          "text": [
            "Found 5000 images belonging to 10 classes.\n",
            "Found 3145 images belonging to 10 classes.\n",
            "Found 3170 images belonging to 10 classes.\n",
            "Epoch 1/10\n",
            "312/313 [============================>.] - ETA: 0s - loss: 0.4180 - accuracy: 0.9161\n",
            "Epoch 1: val_accuracy improved from -inf to 0.95803, saving model to model.h5\n"
          ]
        },
        {
          "output_type": "stream",
          "name": "stderr",
          "text": [
            "/usr/local/lib/python3.10/dist-packages/keras/src/engine/training.py:3103: UserWarning: You are saving your model as an HDF5 file via `model.save()`. This file format is considered legacy. We recommend using instead the native Keras format, e.g. `model.save('my_model.keras')`.\n",
            "  saving_api.save_model(\n"
          ]
        },
        {
          "output_type": "stream",
          "name": "stdout",
          "text": [
            "\b\b\b\b\b\b\b\b\b\b\b\b\b\b\b\b\b\b\b\b\b\b\b\b\b\b\b\b\b\b\b\b\b\b\b\b\b\b\b\b\b\b\b\b\b\b\b\b\b\b\b\b\b\b\b\b\b\b\b\b\b\b\b\b\b\b\b\b\b\b\b\b\b\b\b\b\b\b\b\b\b\b\b\b\r313/313 [==============================] - 29s 66ms/step - loss: 0.4170 - accuracy: 0.9164 - val_loss: 0.1843 - val_accuracy: 0.9580\n",
            "Epoch 2/10\n",
            "313/313 [==============================] - ETA: 0s - loss: 0.0876 - accuracy: 0.9902\n",
            "Epoch 2: val_accuracy improved from 0.95803 to 0.96566, saving model to model.h5\n",
            "313/313 [==============================] - 19s 60ms/step - loss: 0.0876 - accuracy: 0.9902 - val_loss: 0.1355 - val_accuracy: 0.9657\n",
            "Epoch 3/10\n",
            "312/313 [============================>.] - ETA: 0s - loss: 0.0484 - accuracy: 0.9954\n",
            "Epoch 3: val_accuracy improved from 0.96566 to 0.96725, saving model to model.h5\n",
            "313/313 [==============================] - 19s 60ms/step - loss: 0.0483 - accuracy: 0.9954 - val_loss: 0.1193 - val_accuracy: 0.9672\n",
            "Epoch 4/10\n",
            "313/313 [==============================] - ETA: 0s - loss: 0.0316 - accuracy: 0.9982\n",
            "Epoch 4: val_accuracy improved from 0.96725 to 0.97011, saving model to model.h5\n",
            "313/313 [==============================] - 19s 60ms/step - loss: 0.0316 - accuracy: 0.9982 - val_loss: 0.1108 - val_accuracy: 0.9701\n",
            "Epoch 5/10\n",
            "312/313 [============================>.] - ETA: 0s - loss: 0.0236 - accuracy: 0.9978\n",
            "Epoch 5: val_accuracy did not improve from 0.97011\n",
            "313/313 [==============================] - 19s 59ms/step - loss: 0.0236 - accuracy: 0.9978 - val_loss: 0.1055 - val_accuracy: 0.9701\n",
            "Epoch 6/10\n",
            "312/313 [============================>.] - ETA: 0s - loss: 0.0182 - accuracy: 0.9988\n",
            "Epoch 6: val_accuracy improved from 0.97011 to 0.97138, saving model to model.h5\n",
            "313/313 [==============================] - 23s 72ms/step - loss: 0.0181 - accuracy: 0.9988 - val_loss: 0.1006 - val_accuracy: 0.9714\n",
            "Epoch 7/10\n",
            "313/313 [==============================] - ETA: 0s - loss: 0.0143 - accuracy: 0.9990\n",
            "Epoch 7: val_accuracy did not improve from 0.97138\n",
            "313/313 [==============================] - 19s 62ms/step - loss: 0.0143 - accuracy: 0.9990 - val_loss: 0.1002 - val_accuracy: 0.9714\n",
            "Epoch 8/10\n",
            "313/313 [==============================] - ETA: 0s - loss: 0.0101 - accuracy: 1.0000\n",
            "Epoch 8: val_accuracy improved from 0.97138 to 0.97234, saving model to model.h5\n",
            "313/313 [==============================] - 19s 59ms/step - loss: 0.0101 - accuracy: 1.0000 - val_loss: 0.0998 - val_accuracy: 0.9723\n",
            "Epoch 9/10\n",
            "312/313 [============================>.] - ETA: 0s - loss: 0.0095 - accuracy: 0.9992\n",
            "Epoch 9: val_accuracy did not improve from 0.97234\n",
            "313/313 [==============================] - 19s 62ms/step - loss: 0.0095 - accuracy: 0.9992 - val_loss: 0.0963 - val_accuracy: 0.9707\n",
            "Epoch 10/10\n",
            "312/313 [============================>.] - ETA: 0s - loss: 0.0084 - accuracy: 0.9992\n",
            "Epoch 10: val_accuracy improved from 0.97234 to 0.97297, saving model to model.h5\n",
            "313/313 [==============================] - 19s 60ms/step - loss: 0.0085 - accuracy: 0.9992 - val_loss: 0.0967 - val_accuracy: 0.9730\n",
            "199/199 [==============================] - 8s 40ms/step - loss: 0.1186 - accuracy: 0.9669\n",
            "199/199 [==============================] - 8s 32ms/step\n"
          ]
        },
        {
          "output_type": "display_data",
          "data": {
            "text/plain": [
              "<Figure size 640x480 with 2 Axes>"
            ],
            "image/png": "[encoded data removed]"
          },
          "metadata": {}
        }
      ]
    },
    {
      "cell_type": "code",
      "source": [
        "print(f\"Test Accuracy for the EfficientNet-B0 Model with RGB Data {test_accuracy_rgb}\")\n",
        "print(f\"Test Accuracy for the EfficientNet-B0 Model with Grayscale Data {test_accuracy_gray}\")\n",
        "print(f\"Test Accuracy for the EfficientNet-B0 Model with Augmented RGB Data {test_accuracy_rgb_aug}\")\n",
        "print(f\"Test Accuracy for the EfficientNet-B0 Model with Augmented Grayscale Data {test_accuracy_gray_aug}\")"
      ],
      "metadata": {
        "id": "GyE0PU_CtvKt",
        "colab": {
          "base_uri": "https://localhost:8080/"
        },
        "outputId": "76582df1-ff89-46cb-cf84-0578636c871a"
      },
      "execution_count": 57,
      "outputs": [
        {
          "output_type": "stream",
          "name": "stdout",
          "text": [
            "Test Accuracy for the EfficientNet-B0 Model with RGB Data 0.988959014415741\n",
            "Test Accuracy for the EfficientNet-B0 Model with Grayscale Data 0.9794952869415283\n",
            "Test Accuracy for the EfficientNet-B0 Model with Augmented RGB Data 0.9851735234260559\n",
            "Test Accuracy for the EfficientNet-B0 Model with Augmented Grayscale Data 0.9700315594673157\n"
          ]
        }
      ]
    },
    {
      "cell_type": "markdown",
      "source": [
        "# ResNet50"
      ],
      "metadata": {
        "id": "bmFPmp4Ntyni"
      }
    },
    {
      "cell_type": "code",
      "source": [],
      "metadata": {
        "id": "x2JIbFtYt1-b"
      },
      "execution_count": null,
      "outputs": []
    },
    {
      "cell_type": "code",
      "source": [
        "history_rgb, test_loss_rgb, test_accuracy_rgb = apply_transfer_learning( ResNet50(weights = \"imagenet\", include_top = False, input_shape = (224, 224, 3)),\n",
        " \"resnet50\", \"/content/RGB_train\", \"/content/RGB_valid\", \"/content/RGB_test\")"
      ],
      "metadata": {
        "id": "3Ubz8d66t6sJ",
        "colab": {
          "base_uri": "https://localhost:8080/",
          "height": 1000
        },
        "outputId": "d311bb1e-ae5d-4ae5-ff39-70fa1443798d"
      },
      "execution_count": 65,
      "outputs": [
        {
          "output_type": "stream",
          "name": "stdout",
          "text": [
            "Found 1000 images belonging to 10 classes.\n",
            "Found 629 images belonging to 10 classes.\n",
            "Found 634 images belonging to 10 classes.\n",
            "Epoch 1/10\n",
            "63/63 [==============================] - ETA: 0s - loss: 0.7487 - accuracy: 0.8150\n",
            "Epoch 1: val_accuracy improved from -inf to 0.92051, saving model to model.h5\n"
          ]
        },
        {
          "output_type": "stream",
          "name": "stderr",
          "text": [
            "/usr/local/lib/python3.10/dist-packages/keras/src/engine/training.py:3103: UserWarning: You are saving your model as an HDF5 file via `model.save()`. This file format is considered legacy. We recommend using instead the native Keras format, e.g. `model.save('my_model.keras')`.\n",
            "  saving_api.save_model(\n"
          ]
        },
        {
          "output_type": "stream",
          "name": "stdout",
          "text": [
            "\b\b\b\b\b\b\b\b\b\b\b\b\b\b\b\b\b\b\b\b\b\b\b\b\b\b\b\b\b\b\b\b\b\b\b\b\b\b\b\b\b\b\b\b\b\b\b\b\b\b\b\b\b\b\b\b\b\b\b\b\b\b\b\b\b\b\b\b\b\b\b\b\b\b\b\b\b\b\b\b\b\b\r63/63 [==============================] - 22s 260ms/step - loss: 0.7487 - accuracy: 0.8150 - val_loss: 0.2844 - val_accuracy: 0.9205\n",
            "Epoch 2/10\n",
            "63/63 [==============================] - ETA: 0s - loss: 0.0563 - accuracy: 0.9860\n",
            "Epoch 2: val_accuracy improved from 0.92051 to 0.93323, saving model to model.h5\n",
            "63/63 [==============================] - 9s 135ms/step - loss: 0.0563 - accuracy: 0.9860 - val_loss: 0.2745 - val_accuracy: 0.9332\n",
            "Epoch 3/10\n",
            "63/63 [==============================] - ETA: 0s - loss: 0.0461 - accuracy: 0.9840\n",
            "Epoch 3: val_accuracy improved from 0.93323 to 0.95390, saving model to model.h5\n",
            "63/63 [==============================] - 8s 122ms/step - loss: 0.0461 - accuracy: 0.9840 - val_loss: 0.1964 - val_accuracy: 0.9539\n",
            "Epoch 4/10\n",
            "63/63 [==============================] - ETA: 0s - loss: 0.0208 - accuracy: 0.9940\n",
            "Epoch 4: val_accuracy did not improve from 0.95390\n",
            "63/63 [==============================] - 6s 102ms/step - loss: 0.0208 - accuracy: 0.9940 - val_loss: 0.1706 - val_accuracy: 0.9507\n",
            "Epoch 5/10\n",
            "63/63 [==============================] - ETA: 0s - loss: 0.0085 - accuracy: 0.9980\n",
            "Epoch 5: val_accuracy improved from 0.95390 to 0.96025, saving model to model.h5\n",
            "63/63 [==============================] - 7s 111ms/step - loss: 0.0085 - accuracy: 0.9980 - val_loss: 0.1486 - val_accuracy: 0.9603\n",
            "Epoch 6/10\n",
            "63/63 [==============================] - ETA: 0s - loss: 0.0018 - accuracy: 1.0000\n",
            "Epoch 6: val_accuracy did not improve from 0.96025\n",
            "63/63 [==============================] - 6s 101ms/step - loss: 0.0018 - accuracy: 1.0000 - val_loss: 0.1618 - val_accuracy: 0.9571\n",
            "Epoch 7/10\n",
            "63/63 [==============================] - ETA: 0s - loss: 0.0011 - accuracy: 1.0000\n",
            "Epoch 7: val_accuracy did not improve from 0.96025\n",
            "63/63 [==============================] - 6s 97ms/step - loss: 0.0011 - accuracy: 1.0000 - val_loss: 0.1622 - val_accuracy: 0.9539\n",
            "Epoch 8/10\n",
            "63/63 [==============================] - ETA: 0s - loss: 8.5711e-04 - accuracy: 1.0000\n",
            "Epoch 8: val_accuracy did not improve from 0.96025\n",
            "63/63 [==============================] - 6s 99ms/step - loss: 8.5711e-04 - accuracy: 1.0000 - val_loss: 0.1565 - val_accuracy: 0.9587\n",
            "Epoch 9/10\n",
            "63/63 [==============================] - ETA: 0s - loss: 7.4002e-04 - accuracy: 1.0000\n",
            "Epoch 9: val_accuracy did not improve from 0.96025\n",
            "63/63 [==============================] - 6s 103ms/step - loss: 7.4002e-04 - accuracy: 1.0000 - val_loss: 0.1607 - val_accuracy: 0.9571\n",
            "Epoch 10/10\n",
            "63/63 [==============================] - ETA: 0s - loss: 6.3797e-04 - accuracy: 1.0000\n",
            "Epoch 10: val_accuracy did not improve from 0.96025\n",
            "Restoring model weights from the end of the best epoch: 5.\n",
            "63/63 [==============================] - 6s 103ms/step - loss: 6.3797e-04 - accuracy: 1.0000 - val_loss: 0.1603 - val_accuracy: 0.9603\n",
            "Epoch 10: early stopping\n",
            "40/40 [==============================] - 4s 94ms/step - loss: 0.0891 - accuracy: 0.9795\n",
            "40/40 [==============================] - 3s 60ms/step\n"
          ]
        },
        {
          "output_type": "display_data",
          "data": {
            "text/plain": [
              "<Figure size 640x480 with 2 Axes>"
            ],
            "image/png": "[encoded data removed]"
          },
          "metadata": {}
        }
      ]
    },
    {
      "cell_type": "code",
      "source": [
        "history_gray, test_loss_gray, test_accuracy_gray = apply_transfer_learning( ResNet50(weights = \"imagenet\", include_top = False, input_shape = (224, 224, 3))\n",
        ", \"resnet50\", \"/content/gray_train\", \"/content/gray_valid\", \"/content/gray_test\")\n"
      ],
      "metadata": {
        "colab": {
          "base_uri": "https://localhost:8080/",
          "height": 1000
        },
        "id": "J9NATWCfrIf6",
        "outputId": "f9ebf9bf-7a7a-48b0-9b72-215dabd6fe52"
      },
      "execution_count": 67,
      "outputs": [
        {
          "output_type": "stream",
          "name": "stdout",
          "text": [
            "Found 1000 images belonging to 10 classes.\n",
            "Found 629 images belonging to 10 classes.\n",
            "Found 634 images belonging to 10 classes.\n",
            "Epoch 1/10\n",
            "63/63 [==============================] - ETA: 0s - loss: 0.9336 - accuracy: 0.7670\n",
            "Epoch 1: val_accuracy improved from -inf to 0.91574, saving model to model.h5\n"
          ]
        },
        {
          "output_type": "stream",
          "name": "stderr",
          "text": [
            "/usr/local/lib/python3.10/dist-packages/keras/src/engine/training.py:3103: UserWarning: You are saving your model as an HDF5 file via `model.save()`. This file format is considered legacy. We recommend using instead the native Keras format, e.g. `model.save('my_model.keras')`.\n",
            "  saving_api.save_model(\n"
          ]
        },
        {
          "output_type": "stream",
          "name": "stdout",
          "text": [
            "\b\b\b\b\b\b\b\b\b\b\b\b\b\b\b\b\b\b\b\b\b\b\b\b\b\b\b\b\b\b\b\b\b\b\b\b\b\b\b\b\b\b\b\b\b\b\b\b\b\b\b\b\b\b\b\b\b\b\b\b\b\b\b\b\b\b\b\b\b\b\b\b\b\b\b\b\b\b\b\b\b\b\r63/63 [==============================] - 12s 137ms/step - loss: 0.9336 - accuracy: 0.7670 - val_loss: 0.2401 - val_accuracy: 0.9157\n",
            "Epoch 2/10\n",
            "63/63 [==============================] - ETA: 0s - loss: 0.0975 - accuracy: 0.9660\n",
            "Epoch 2: val_accuracy did not improve from 0.91574\n",
            "63/63 [==============================] - 6s 98ms/step - loss: 0.0975 - accuracy: 0.9660 - val_loss: 0.2692 - val_accuracy: 0.9046\n",
            "Epoch 3/10\n",
            "63/63 [==============================] - ETA: 0s - loss: 0.0526 - accuracy: 0.9840\n",
            "Epoch 3: val_accuracy improved from 0.91574 to 0.92369, saving model to model.h5\n",
            "63/63 [==============================] - 7s 113ms/step - loss: 0.0526 - accuracy: 0.9840 - val_loss: 0.1901 - val_accuracy: 0.9237\n",
            "Epoch 4/10\n",
            "63/63 [==============================] - ETA: 0s - loss: 0.0123 - accuracy: 0.9980\n",
            "Epoch 4: val_accuracy improved from 0.92369 to 0.93482, saving model to model.h5\n",
            "63/63 [==============================] - 8s 121ms/step - loss: 0.0123 - accuracy: 0.9980 - val_loss: 0.2193 - val_accuracy: 0.9348\n",
            "Epoch 5/10\n",
            "63/63 [==============================] - ETA: 0s - loss: 0.0078 - accuracy: 0.9990\n",
            "Epoch 5: val_accuracy improved from 0.93482 to 0.94754, saving model to model.h5\n",
            "63/63 [==============================] - 7s 116ms/step - loss: 0.0078 - accuracy: 0.9990 - val_loss: 0.1507 - val_accuracy: 0.9475\n",
            "Epoch 6/10\n",
            "63/63 [==============================] - ETA: 0s - loss: 0.0088 - accuracy: 0.9990\n",
            "Epoch 6: val_accuracy improved from 0.94754 to 0.95707, saving model to model.h5\n",
            "63/63 [==============================] - 7s 109ms/step - loss: 0.0088 - accuracy: 0.9990 - val_loss: 0.1318 - val_accuracy: 0.9571\n",
            "Epoch 7/10\n",
            "63/63 [==============================] - ETA: 0s - loss: 0.0114 - accuracy: 0.9960\n",
            "Epoch 7: val_accuracy did not improve from 0.95707\n",
            "63/63 [==============================] - 6s 102ms/step - loss: 0.0114 - accuracy: 0.9960 - val_loss: 0.2100 - val_accuracy: 0.9444\n",
            "Epoch 8/10\n",
            "63/63 [==============================] - ETA: 0s - loss: 0.0253 - accuracy: 0.9920\n",
            "Epoch 8: val_accuracy did not improve from 0.95707\n",
            "63/63 [==============================] - 6s 102ms/step - loss: 0.0253 - accuracy: 0.9920 - val_loss: 0.2356 - val_accuracy: 0.9285\n",
            "Epoch 9/10\n",
            "63/63 [==============================] - ETA: 0s - loss: 0.0091 - accuracy: 0.9980\n",
            "Epoch 9: val_accuracy improved from 0.95707 to 0.96184, saving model to model.h5\n",
            "63/63 [==============================] - 7s 112ms/step - loss: 0.0091 - accuracy: 0.9980 - val_loss: 0.1671 - val_accuracy: 0.9618\n",
            "Epoch 10/10\n",
            "63/63 [==============================] - ETA: 0s - loss: 0.0715 - accuracy: 0.9890\n",
            "Epoch 10: val_accuracy did not improve from 0.96184\n",
            "63/63 [==============================] - 7s 109ms/step - loss: 0.0715 - accuracy: 0.9890 - val_loss: 0.3269 - val_accuracy: 0.9173\n",
            "40/40 [==============================] - 2s 60ms/step - loss: 0.3554 - accuracy: 0.9322\n",
            "40/40 [==============================] - 3s 55ms/step\n"
          ]
        },
        {
          "output_type": "display_data",
          "data": {
            "text/plain": [
              "<Figure size 640x480 with 2 Axes>"
            ],
            "image/png": "[encoded data removed]"
          },
          "metadata": {}
        }
      ]
    },
    {
      "cell_type": "code",
      "source": [
        "history_rgb_aug, test_loss_rgb_aug, test_accuracy_rgb_aug = apply_transfer_learning( ResNet50(weights = \"imagenet\", include_top = False, input_shape = (224, 224, 3))\n",
        ", \"resnet50\", \"/content/aug_RGB_train\", \"/content/aug_RGB_valid\", \"/content/aug_RGB_test\")"
      ],
      "metadata": {
        "id": "k6kcW2_Ft6mG",
        "colab": {
          "base_uri": "https://localhost:8080/",
          "height": 1000
        },
        "outputId": "bb3ab970-908a-4638-f535-3b050e23c2e7"
      },
      "execution_count": 68,
      "outputs": [
        {
          "output_type": "stream",
          "name": "stdout",
          "text": [
            "Found 5000 images belonging to 10 classes.\n",
            "Found 3145 images belonging to 10 classes.\n",
            "Found 3170 images belonging to 10 classes.\n",
            "Epoch 1/10\n",
            "313/313 [==============================] - ETA: 0s - loss: 0.2323 - accuracy: 0.9320\n",
            "Epoch 1: val_accuracy improved from -inf to 0.93800, saving model to model.h5\n"
          ]
        },
        {
          "output_type": "stream",
          "name": "stderr",
          "text": [
            "/usr/local/lib/python3.10/dist-packages/keras/src/engine/training.py:3103: UserWarning: You are saving your model as an HDF5 file via `model.save()`. This file format is considered legacy. We recommend using instead the native Keras format, e.g. `model.save('my_model.keras')`.\n",
            "  saving_api.save_model(\n"
          ]
        },
        {
          "output_type": "stream",
          "name": "stdout",
          "text": [
            "\b\b\b\b\b\b\b\b\b\b\b\b\b\b\b\b\b\b\b\b\b\b\b\b\b\b\b\b\b\b\b\b\b\b\b\b\b\b\b\b\b\b\b\b\b\b\b\b\b\b\b\b\b\b\b\b\b\b\b\b\b\b\b\b\b\b\b\b\b\b\b\b\b\b\b\b\b\b\b\b\b\b\b\b\r313/313 [==============================] - 39s 110ms/step - loss: 0.2323 - accuracy: 0.9320 - val_loss: 0.2330 - val_accuracy: 0.9380\n",
            "Epoch 2/10\n",
            "313/313 [==============================] - ETA: 0s - loss: 0.0535 - accuracy: 0.9828\n",
            "Epoch 2: val_accuracy did not improve from 0.93800\n",
            "313/313 [==============================] - 40s 129ms/step - loss: 0.0535 - accuracy: 0.9828 - val_loss: 0.3119 - val_accuracy: 0.9332\n",
            "Epoch 3/10\n",
            "313/313 [==============================] - ETA: 0s - loss: 0.0140 - accuracy: 0.9962\n",
            "Epoch 3: val_accuracy did not improve from 0.93800\n",
            "313/313 [==============================] - 31s 99ms/step - loss: 0.0140 - accuracy: 0.9962 - val_loss: 0.3380 - val_accuracy: 0.9208\n",
            "Epoch 4/10\n",
            "313/313 [==============================] - ETA: 0s - loss: 0.0024 - accuracy: 0.9992\n",
            "Epoch 4: val_accuracy improved from 0.93800 to 0.94754, saving model to model.h5\n",
            "313/313 [==============================] - 32s 101ms/step - loss: 0.0024 - accuracy: 0.9992 - val_loss: 0.2420 - val_accuracy: 0.9475\n",
            "Epoch 5/10\n",
            "313/313 [==============================] - ETA: 0s - loss: 2.0862e-04 - accuracy: 1.0000\n",
            "Epoch 5: val_accuracy improved from 0.94754 to 0.94817, saving model to model.h5\n",
            "313/313 [==============================] - 32s 102ms/step - loss: 2.0862e-04 - accuracy: 1.0000 - val_loss: 0.2414 - val_accuracy: 0.9482\n",
            "Epoch 6/10\n",
            "313/313 [==============================] - ETA: 0s - loss: 1.4319e-04 - accuracy: 1.0000\n",
            "Epoch 6: val_accuracy improved from 0.94817 to 0.94849, saving model to model.h5\n",
            "313/313 [==============================] - 41s 133ms/step - loss: 1.4319e-04 - accuracy: 1.0000 - val_loss: 0.2472 - val_accuracy: 0.9485\n",
            "Epoch 7/10\n",
            "313/313 [==============================] - ETA: 0s - loss: 1.1198e-04 - accuracy: 1.0000\n",
            "Epoch 7: val_accuracy did not improve from 0.94849\n",
            "313/313 [==============================] - 40s 128ms/step - loss: 1.1198e-04 - accuracy: 1.0000 - val_loss: 0.2499 - val_accuracy: 0.9466\n",
            "Epoch 8/10\n",
            "313/313 [==============================] - ETA: 0s - loss: 8.8086e-05 - accuracy: 1.0000\n",
            "Epoch 8: val_accuracy did not improve from 0.94849\n",
            "313/313 [==============================] - 40s 128ms/step - loss: 8.8086e-05 - accuracy: 1.0000 - val_loss: 0.2491 - val_accuracy: 0.9482\n",
            "Epoch 9/10\n",
            "313/313 [==============================] - ETA: 0s - loss: 7.2602e-05 - accuracy: 1.0000\n",
            "Epoch 9: val_accuracy did not improve from 0.94849\n",
            "313/313 [==============================] - 31s 100ms/step - loss: 7.2602e-05 - accuracy: 1.0000 - val_loss: 0.2573 - val_accuracy: 0.9479\n",
            "Epoch 10/10\n",
            "313/313 [==============================] - ETA: 0s - loss: 5.7170e-05 - accuracy: 1.0000\n",
            "Epoch 10: val_accuracy did not improve from 0.94849\n",
            "313/313 [==============================] - 31s 99ms/step - loss: 5.7170e-05 - accuracy: 1.0000 - val_loss: 0.2602 - val_accuracy: 0.9469\n",
            "199/199 [==============================] - 13s 66ms/step - loss: 0.1993 - accuracy: 0.9584\n",
            "199/199 [==============================] - 12s 57ms/step\n"
          ]
        },
        {
          "output_type": "display_data",
          "data": {
            "text/plain": [
              "<Figure size 640x480 with 2 Axes>"
            ],
            "image/png": "[encoded data removed]"
          },
          "metadata": {}
        }
      ]
    },
    {
      "cell_type": "code",
      "source": [
        "history_gray_aug, test_loss_gray_aug, test_accuracy_gray_aug = apply_transfer_learning( ResNet50(weights = \"imagenet\", include_top = False, input_shape = (224, 224, 3))\n",
        ", \"resnet50\", \"/content/aug_gray_train\", \"/content/aug_gray_valid\", \"/content/aug_gray_test\")"
      ],
      "metadata": {
        "colab": {
          "base_uri": "https://localhost:8080/",
          "height": 1000
        },
        "id": "OMjmdeXprLFB",
        "outputId": "f867b701-f5d4-4059-f620-13290d98e60a"
      },
      "execution_count": 69,
      "outputs": [
        {
          "output_type": "stream",
          "name": "stdout",
          "text": [
            "Found 5000 images belonging to 10 classes.\n",
            "Found 3145 images belonging to 10 classes.\n",
            "Found 3170 images belonging to 10 classes.\n",
            "Epoch 1/10\n",
            "313/313 [==============================] - ETA: 0s - loss: 0.3517 - accuracy: 0.8902\n",
            "Epoch 1: val_accuracy improved from -inf to 0.87440, saving model to model.h5\n"
          ]
        },
        {
          "output_type": "stream",
          "name": "stderr",
          "text": [
            "/usr/local/lib/python3.10/dist-packages/keras/src/engine/training.py:3103: UserWarning: You are saving your model as an HDF5 file via `model.save()`. This file format is considered legacy. We recommend using instead the native Keras format, e.g. `model.save('my_model.keras')`.\n",
            "  saving_api.save_model(\n"
          ]
        },
        {
          "output_type": "stream",
          "name": "stdout",
          "text": [
            "\b\b\b\b\b\b\b\b\b\b\b\b\b\b\b\b\b\b\b\b\b\b\b\b\b\b\b\b\b\b\b\b\b\b\b\b\b\b\b\b\b\b\b\b\b\b\b\b\b\b\b\b\b\b\b\b\b\b\b\b\b\b\b\b\b\b\b\b\b\b\b\b\b\b\b\b\b\b\b\b\b\b\b\b\r313/313 [==============================] - 36s 105ms/step - loss: 0.3517 - accuracy: 0.8902 - val_loss: 0.4220 - val_accuracy: 0.8744\n",
            "Epoch 2/10\n",
            "313/313 [==============================] - ETA: 0s - loss: 0.0455 - accuracy: 0.9836\n",
            "Epoch 2: val_accuracy improved from 0.87440 to 0.91955, saving model to model.h5\n",
            "313/313 [==============================] - 32s 102ms/step - loss: 0.0455 - accuracy: 0.9836 - val_loss: 0.3312 - val_accuracy: 0.9196\n",
            "Epoch 3/10\n",
            "313/313 [==============================] - ETA: 0s - loss: 0.0624 - accuracy: 0.9816\n",
            "Epoch 3: val_accuracy did not improve from 0.91955\n",
            "313/313 [==============================] - 31s 99ms/step - loss: 0.0624 - accuracy: 0.9816 - val_loss: 0.3917 - val_accuracy: 0.8992\n",
            "Epoch 4/10\n",
            "313/313 [==============================] - ETA: 0s - loss: 0.0392 - accuracy: 0.9866\n",
            "Epoch 4: val_accuracy did not improve from 0.91955\n",
            "313/313 [==============================] - 31s 99ms/step - loss: 0.0392 - accuracy: 0.9866 - val_loss: 0.5841 - val_accuracy: 0.8935\n",
            "Epoch 5/10\n",
            "313/313 [==============================] - ETA: 0s - loss: 0.0176 - accuracy: 0.9964\n",
            "Epoch 5: val_accuracy improved from 0.91955 to 0.93355, saving model to model.h5\n",
            "313/313 [==============================] - 41s 130ms/step - loss: 0.0176 - accuracy: 0.9964 - val_loss: 0.2907 - val_accuracy: 0.9335\n",
            "Epoch 6/10\n",
            "313/313 [==============================] - ETA: 0s - loss: 0.0019 - accuracy: 0.9992\n",
            "Epoch 6: val_accuracy did not improve from 0.93355\n",
            "313/313 [==============================] - 31s 99ms/step - loss: 0.0019 - accuracy: 0.9992 - val_loss: 0.2917 - val_accuracy: 0.9332\n",
            "Epoch 7/10\n",
            "313/313 [==============================] - ETA: 0s - loss: 2.9783e-04 - accuracy: 1.0000\n",
            "Epoch 7: val_accuracy improved from 0.93355 to 0.93831, saving model to model.h5\n",
            "313/313 [==============================] - 32s 101ms/step - loss: 2.9783e-04 - accuracy: 1.0000 - val_loss: 0.2771 - val_accuracy: 0.9383\n",
            "Epoch 8/10\n",
            "313/313 [==============================] - ETA: 0s - loss: 1.8344e-04 - accuracy: 1.0000\n",
            "Epoch 8: val_accuracy did not improve from 0.93831\n",
            "313/313 [==============================] - 31s 99ms/step - loss: 1.8344e-04 - accuracy: 1.0000 - val_loss: 0.2828 - val_accuracy: 0.9377\n",
            "Epoch 9/10\n",
            "313/313 [==============================] - ETA: 0s - loss: 1.4372e-04 - accuracy: 1.0000\n",
            "Epoch 9: val_accuracy improved from 0.93831 to 0.93895, saving model to model.h5\n",
            "313/313 [==============================] - 32s 101ms/step - loss: 1.4372e-04 - accuracy: 1.0000 - val_loss: 0.2820 - val_accuracy: 0.9390\n",
            "Epoch 10/10\n",
            "313/313 [==============================] - ETA: 0s - loss: 1.1345e-04 - accuracy: 1.0000\n",
            "Epoch 10: val_accuracy did not improve from 0.93895\n",
            "313/313 [==============================] - 31s 98ms/step - loss: 1.1345e-04 - accuracy: 1.0000 - val_loss: 0.2875 - val_accuracy: 0.9383\n",
            "199/199 [==============================] - 12s 61ms/step - loss: 0.3150 - accuracy: 0.9388\n",
            "199/199 [==============================] - 12s 58ms/step\n"
          ]
        },
        {
          "output_type": "display_data",
          "data": {
            "text/plain": [
              "<Figure size 640x480 with 2 Axes>"
            ],
            "image/png": "[encoded data removed]"
          },
          "metadata": {}
        }
      ]
    },
    {
      "cell_type": "code",
      "source": [
        "print(f\"Test Accuracy for the ResNet50 Model with RGB Data {test_accuracy_rgb}\")\n",
        "print(f\"Test Accuracy for the ResNet50 Model with Grayscale Data {test_accuracy_gray}\")\n",
        "print(f\"Test Accuracy for the ResNet50 Model with Augmented RGB Data {test_accuracy_rgb_aug}\")\n",
        "print(f\"Test Accuracy for the ResNet50 Model with Augmented Grayscale Data {test_accuracy_gray_aug}\")"
      ],
      "metadata": {
        "id": "q6xgo8C3t6jF",
        "colab": {
          "base_uri": "https://localhost:8080/"
        },
        "outputId": "1aa30386-863a-4c67-d41f-14004338f6bb"
      },
      "execution_count": 70,
      "outputs": [
        {
          "output_type": "stream",
          "name": "stdout",
          "text": [
            "Test Accuracy for the ResNet50 Model with RGB Data 0.9794952869415283\n",
            "Test Accuracy for the ResNet50 Model with Grayscale Data 0.9321766495704651\n",
            "Test Accuracy for the ResNet50 Model with Augmented RGB Data 0.9583595991134644\n",
            "Test Accuracy for the ResNet50 Model with Augmented Grayscale Data 0.9388012886047363\n"
          ]
        }
      ]
    },
    {
      "cell_type": "code",
      "source": [],
      "metadata": {
        "id": "A_CJ6nCpnLVl"
      },
      "execution_count": null,
      "outputs": []
    }
  ],
  "metadata": {
    "accelerator": "GPU",
    "colab": {
      "provenance": [],
      "gpuType": "T4",
      "toc_visible": true
    },
    "kernelspec": {
      "display_name": "Python 3",
      "name": "python3"
    },
    "language_info": {
      "name": "python"
    }
  },
  "nbformat": 4,
  "nbformat_minor": 0
}